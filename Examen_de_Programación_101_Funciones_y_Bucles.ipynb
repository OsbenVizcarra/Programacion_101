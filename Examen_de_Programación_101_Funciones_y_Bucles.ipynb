{
  "nbformat": 4,
  "nbformat_minor": 0,
  "metadata": {
    "colab": {
      "provenance": [],
      "authorship_tag": "ABX9TyPbazCVY4XpbOJSsaA+vdRg",
      "include_colab_link": true
    },
    "kernelspec": {
      "name": "python3",
      "display_name": "Python 3"
    },
    "language_info": {
      "name": "python"
    }
  },
  "cells": [
    {
      "cell_type": "markdown",
      "metadata": {
        "id": "view-in-github",
        "colab_type": "text"
      },
      "source": [
        "<a href=\"https://colab.research.google.com/github/OsbenVizcarra/Programacion_101/blob/main/Examen_de_Programaci%C3%B3n_101_Funciones_y_Bucles.ipynb\" target=\"_parent\"><img src=\"https://colab.research.google.com/assets/colab-badge.svg\" alt=\"Open In Colab\"/></a>"
      ]
    },
    {
      "cell_type": "markdown",
      "source": [
        "# **Examen de Programación 101 - Funciones y Bucles**"
      ],
      "metadata": {
        "id": "SUcFMN-BQL6J"
      }
    },
    {
      "cell_type": "markdown",
      "source": [
        "**1. Cifrado de Texto.**\n",
        "\n",
        "Escribe una función en Python llamada cifrar_texto que tome una cadena de texto y un número entero positivo n. La función debe devolver una nueva cadena donde cada carácter alfabético ha sido desplazado n posiciones adelante en el alfabeto. El cifrado debe ser cíclico; es decir, después de la 'z' sigue la 'a'. Mantén los caracteres no alfabéticos sin cambios y preserva las mayúsculas y minúsculas."
      ],
      "metadata": {
        "id": "BWkxqcO2QeHs"
      }
    },
    {
      "cell_type": "code",
      "source": [
        "def cifrar_texto(texto, n):\n",
        "  resultado = \"\"\n",
        "  for caracter in texto:\n",
        "    if 'a' <= caracter <= 'z':\n",
        "      nueva_posicion = (ord(caracter) - ord('a') + n) % 26\n",
        "      nuevo_caracter = chr(nueva_posicion + ord('a'))\n",
        "    elif 'A' <= caracter <= 'Z':\n",
        "      nueva_posicion = (ord(caracter) - ord('A') + n) % 26\n",
        "      nuevo_caracter = chr(nueva_posicion + ord('A'))\n",
        "    else:\n",
        "      nuevo_caracter = caracter\n",
        "    resultado += nuevo_caracter\n",
        "  return resultado"
      ],
      "metadata": {
        "id": "iDfQgJxaP3LA"
      },
      "execution_count": 20,
      "outputs": []
    },
    {
      "cell_type": "code",
      "source": [
        "texto = input(\"Ingrese un texto: \")\n",
        "n = 3\n",
        "texto_cifrado = cifrar_texto(texto, n)\n",
        "print(f\"Texto original: {texto}\")\n",
        "print(f\"Texto cifrado: {texto_cifrado}\")"
      ],
      "metadata": {
        "colab": {
          "base_uri": "https://localhost:8080/"
        },
        "id": "3sS7jBFNQB1n",
        "outputId": "e6921304-27ed-40de-eef4-1b441c00049a"
      },
      "execution_count": 22,
      "outputs": [
        {
          "output_type": "stream",
          "name": "stdout",
          "text": [
            "Ingrese un texto: Hola, mundo!\n",
            "Texto original: Hola, mundo!\n",
            "Texto cifrado: Krod, pxqgr!\n"
          ]
        }
      ]
    },
    {
      "cell_type": "markdown",
      "source": [
        "**2. Números Primos Gemelos.**\n",
        "\n",
        "Escribe una función en Python que encuentre y devuelva todos los pares de números primos gemelos menores que un número entero positivo m dado. Los números primos gemelos son pares de números primos que difieren en 2 (por ejemplo, 3 y 5).\n",
        "\n",
        "**Pista:** Crea una función auxiliar para verificar si un número es primo, y utiliza un bucle para encontrar todos los\n",
        "primos hasta m."
      ],
      "metadata": {
        "id": "v-GgohQrRJUI"
      }
    },
    {
      "cell_type": "code",
      "source": [
        "def es_primo(número):\n",
        "  if número <= 1:\n",
        "    return False\n",
        "  for i in range(2, int(número**0.5) + 1):\n",
        "    if número % i == 0:\n",
        "      return False\n",
        "  return True\n",
        "\n",
        "def primos_gemelos(número2):\n",
        "  primos = []\n",
        "  for i in range(2, número2):\n",
        "    if es_primo(i):\n",
        "      primos.append(i)\n",
        "\n",
        "  pares_gemelos = []\n",
        "  for i in range(len(primos) - 1):\n",
        "    if primos[i+1] - primos[i] == 2:\n",
        "      pares_gemelos.append((primos[i], primos[i+1]))\n",
        "\n",
        "  return pares_gemelos"
      ],
      "metadata": {
        "id": "D1LEqlmkRVe4"
      },
      "execution_count": 24,
      "outputs": []
    },
    {
      "source": [
        "número2 = input(\"Ingrese un número: \")\n",
        "número2 = int(número2)\n",
        "pares_gemelos = primos_gemelos(número2)\n",
        "print(f\"Los números primos gemelos menores que {número2} son: {pares_gemelos}\")"
      ],
      "cell_type": "code",
      "metadata": {
        "colab": {
          "base_uri": "https://localhost:8080/"
        },
        "id": "CnmQ80U5Sp07",
        "outputId": "e01d2539-ff1b-4dbe-bac7-0f267537cd2c"
      },
      "execution_count": 30,
      "outputs": [
        {
          "output_type": "stream",
          "name": "stdout",
          "text": [
            "Ingrese un número: 15\n",
            "Los números primos gemelos menores que 15 son: [(3, 5), (5, 7), (11, 13)]\n"
          ]
        }
      ]
    },
    {
      "cell_type": "markdown",
      "source": [
        "**3. Triángulo de Pascal.**\n",
        "\n",
        "Utilizando bucles, escribe una función en Python que genere el Triángulo de Pascal hasta una altura h dada e imprímelo en formato piramidal.\n",
        "\n",
        "**Pista:** Cada número en el triángulo es la suma de los dos números directamente encima de él. Puedes utilizar\n",
        "listas para almacenar las filas."
      ],
      "metadata": {
        "id": "rbh08XspSwus"
      }
    },
    {
      "cell_type": "code",
      "source": [
        "def triangulo_pascal(altura):\n",
        "  filas = []\n",
        "  for i in range(altura):\n",
        "    fila = []\n",
        "    for j in range(i + 1):\n",
        "      if j == 0 or j == i:\n",
        "        fila.append(1)\n",
        "      else:\n",
        "        fila.append(filas[i - 1][j - 1] + filas[i - 1][j])\n",
        "    filas.append(fila)\n",
        "\n",
        "    print(\"  \" * (altura - i - 1), end=\"\")\n",
        "    for num in fila:\n",
        "      print(str(num).center(4), end=\"\")\n",
        "    print()"
      ],
      "metadata": {
        "id": "jE2E3z_4UxNE"
      },
      "execution_count": 47,
      "outputs": []
    },
    {
      "cell_type": "code",
      "source": [
        "altura = int(input(\"Ingrese la altura requerida: \"))\n",
        "print(\"El triángulo de Pascal luce así:\")\n",
        "triangulo_pascal(altura)"
      ],
      "metadata": {
        "colab": {
          "base_uri": "https://localhost:8080/"
        },
        "id": "vBt9uoS5VPNz",
        "outputId": "48c5a555-fe47-40fe-c1d6-114ea00a15d6"
      },
      "execution_count": 52,
      "outputs": [
        {
          "output_type": "stream",
          "name": "stdout",
          "text": [
            "Ingrese la altura requerida: 5\n",
            "El triángulo de Pascal luce así:\n",
            "         1  \n",
            "       1   1  \n",
            "     1   2   1  \n",
            "   1   3   3   1  \n",
            " 1   4   6   4   1  \n"
          ]
        }
      ]
    },
    {
      "cell_type": "markdown",
      "source": [
        "**4. Análisis de Frecuencia de Palabras.**\n",
        "\n",
        "Escribe una función llamada analizar_frecuencia que tome una cadena de texto que puede contener múltiples\n",
        "oraciones. La función debe devolver un diccionario donde las claves son las palabras y los valores son el\n",
        "número de veces que aparece cada palabra en el texto. Ignora la puntuación y considera las mayúsculas y\n",
        "minúsculas como la misma letra (es decir, trata \"Hola\" y \"hola\" como la misma palabra).\n",
        "\n",
        "**Pista:** Utiliza el método str.lower() para convertir el texto a minúsculas y el módulo string para manejar la\n",
        "puntuación."
      ],
      "metadata": {
        "id": "afWsHe_7VmLd"
      }
    },
    {
      "source": [
        "import string\n",
        "\n",
        "def analizar_frecuencia(texto):\n",
        "    frecuencia_palabras = {}\n",
        "    texto = texto.lower()\n",
        "    for caracter_puntuacion in string.punctuation:\n",
        "        texto = texto.replace(caracter_puntuacion, \"\")\n",
        "    palabras = texto.split()\n",
        "\n",
        "    for palabra in palabras:\n",
        "        if palabra in frecuencia_palabras:\n",
        "            frecuencia_palabras[palabra] += 1\n",
        "        else:\n",
        "            frecuencia_palabras[palabra] = 1\n",
        "    return frecuencia_palabras"
      ],
      "cell_type": "code",
      "metadata": {
        "id": "cVUc78DWW6Tq"
      },
      "execution_count": 62,
      "outputs": []
    },
    {
      "cell_type": "code",
      "source": [
        "texto = input(\"Ingrese un texto: \")\n",
        "frecuencia_palabras = analizar_frecuencia(texto)\n",
        "print(f\"La frecuencia de las palabras es: {frecuencia_palabras}\")"
      ],
      "metadata": {
        "colab": {
          "base_uri": "https://localhost:8080/"
        },
        "id": "ARwtEAYBXIxn",
        "outputId": "d5d339a4-e9af-475f-9b35-80fe03912def"
      },
      "execution_count": 61,
      "outputs": [
        {
          "output_type": "stream",
          "name": "stdout",
          "text": [
            "Ingrese un texto: Hola mundo. Hola a todos en el mundo.\n",
            "La frecuencia de las palabras es: {'hola': 2, 'mundo': 2, 'a': 1, 'todos': 1, 'en': 1, 'el': 1}\n"
          ]
        }
      ]
    },
    {
      "cell_type": "markdown",
      "source": [
        "**5. Juego de Números Aleatorios.**\n",
        "\n",
        "Crea un programa en Python que genere un número aleatorio entre 1 y 100. El usuario tiene que adivinar el número, y el programa debe darle pistas indicando \"más alto\" o \"más bajo\" después de cada intento. El juego termina cuando el usuario adivina el número o se queda sin intentos (máximo 10 intentos).\n",
        "\n",
        "Requisitos:\n",
        "*   Utiliza un bucle para gestionar los intentos.\n",
        "*   Después de cada intento fallido, indica al usuario cuántos intentos le quedan.\n",
        "*   Al finalizar, muestra un mensaje apropiado indicando si ganó o cuál era el número correcto.\n",
        "\n",
        "**Pista:** Usa el módulo random para generar el número aleatorio y un bucle while para gestionar los intentos."
      ],
      "metadata": {
        "id": "8PndzbxCXsB_"
      }
    },
    {
      "cell_type": "code",
      "source": [
        "import random\n",
        "\n",
        "def adivinar_numero():\n",
        "  numero_secreto = random.randint(1, 100)\n",
        "  intentos = 10\n",
        "\n",
        "  print(\"¡Bienvenido al juego del azar para adivinar un número!\")\n",
        "  print(\"Mi nombre es Phyton y estoy pensando en un número entre 1 y 100.\")\n",
        "\n",
        "  while intentos > 0:\n",
        "    print(f\"\\nTe quedan {intentos} intentos.\")\n",
        "    try:\n",
        "      adivinanza = int(input(\"Adivina el número: \"))\n",
        "    except ValueError:\n",
        "      print(\"Por favor, ingresa un número válido.\")\n",
        "      continue\n",
        "\n",
        "    if adivinanza == numero_secreto:\n",
        "      print(f\"\\n¡Felicidades! Adivinaste el número {numero_secreto} correctamente.\")\n",
        "      return\n",
        "\n",
        "    elif adivinanza < numero_secreto:\n",
        "      print(\"El número es más alto.\")\n",
        "\n",
        "    else:\n",
        "      print(\"El número es más bajo.\")\n",
        "\n",
        "    intentos -= 1\n",
        "\n",
        "  print(f\"\\nSe acabaron los intentos. El número secreto era {numero_secreto}.\")\n",
        "\n",
        "if __name__ == \"__main__\":\n",
        "  adivinar_numero()"
      ],
      "metadata": {
        "colab": {
          "base_uri": "https://localhost:8080/"
        },
        "id": "_wDQpAlVYScO",
        "outputId": "279b4cbf-4d6b-457b-9d1f-e071c6d35df7"
      },
      "execution_count": 66,
      "outputs": [
        {
          "output_type": "stream",
          "name": "stdout",
          "text": [
            "¡Bienvenido al juego del azar para adivinar un número!\n",
            "Mi nombre es Phyton y estoy pensando en un número entre 1 y 100.\n",
            "\n",
            "Te quedan 10 intentos.\n",
            "Adivina el número: 1\n",
            "El número es más alto.\n",
            "\n",
            "Te quedan 9 intentos.\n",
            "Adivina el número: 2\n",
            "El número es más alto.\n",
            "\n",
            "Te quedan 8 intentos.\n",
            "Adivina el número: 3\n",
            "El número es más alto.\n",
            "\n",
            "Te quedan 7 intentos.\n",
            "Adivina el número: 4\n",
            "El número es más alto.\n",
            "\n",
            "Te quedan 6 intentos.\n",
            "Adivina el número: 5\n",
            "El número es más alto.\n",
            "\n",
            "Te quedan 5 intentos.\n",
            "Adivina el número: 6\n",
            "El número es más alto.\n",
            "\n",
            "Te quedan 4 intentos.\n",
            "Adivina el número: 7\n",
            "El número es más alto.\n",
            "\n",
            "Te quedan 3 intentos.\n",
            "Adivina el número: 8\n",
            "El número es más alto.\n",
            "\n",
            "Te quedan 2 intentos.\n",
            "Adivina el número: 1\n",
            "El número es más alto.\n",
            "\n",
            "Te quedan 1 intentos.\n",
            "Adivina el número: 2\n",
            "El número es más alto.\n",
            "\n",
            "Se acabaron los intentos. El número secreto era 46.\n"
          ]
        }
      ]
    },
    {
      "cell_type": "markdown",
      "source": [
        "**6. Bonus: Generador de Contraseñas.**\n",
        "\n",
        "Escribe una función en Python llamada generar_contraseña que genere una contraseña segura de longitud l proporcionada por el usuario. La contraseña debe incluir una combinación de letras mayúsculas, minúsculas, números y símbolos especiales.\n",
        "\n",
        "**Pista:** Usa el módulo random y las cadenas de caracteres disponibles en el módulo string."
      ],
      "metadata": {
        "id": "n6kLn0r7ZM1Z"
      }
    },
    {
      "cell_type": "code",
      "source": [
        "def generar_contraseña(l):\n",
        "  caracteres = string.ascii_letters + string.digits + string.punctuation\n",
        "  contraseña = ''.join(random.choice(caracteres) for i in range(l))\n",
        "  return contraseña"
      ],
      "metadata": {
        "id": "yGDazAgFZuiF"
      },
      "execution_count": 68,
      "outputs": []
    },
    {
      "cell_type": "code",
      "source": [
        "longitud = int(input(\"Ingresa la longitud de la contraseña: \"))\n",
        "contraseña_generada = generar_contraseña(longitud)\n",
        "print(\"La contraseña generada es:\", contraseña_generada)"
      ],
      "metadata": {
        "colab": {
          "base_uri": "https://localhost:8080/"
        },
        "id": "niEvwhd5Z7d8",
        "outputId": "8f900bd5-51e0-4c1f-bf60-a8dc6dec62e0"
      },
      "execution_count": 69,
      "outputs": [
        {
          "output_type": "stream",
          "name": "stdout",
          "text": [
            "Ingresa la longitud de la contraseña: 12\n",
            "La contraseña generada es: zfd->*d/p#t4\n"
          ]
        }
      ]
    }
  ]
}