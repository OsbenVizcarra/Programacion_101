{
  "nbformat": 4,
  "nbformat_minor": 0,
  "metadata": {
    "colab": {
      "provenance": [],
      "authorship_tag": "ABX9TyM34WyFYZhMrmy6E/ToJkYx",
      "include_colab_link": true
    },
    "kernelspec": {
      "name": "python3",
      "display_name": "Python 3"
    },
    "language_info": {
      "name": "python"
    }
  },
  "cells": [
    {
      "cell_type": "markdown",
      "metadata": {
        "id": "view-in-github",
        "colab_type": "text"
      },
      "source": [
        "<a href=\"https://colab.research.google.com/github/OsbenVizcarra/Programacion_101/blob/main/Aplicaci%C3%B3n_Juego_de_Aventuras_en_Texto.ipynb\" target=\"_parent\"><img src=\"https://colab.research.google.com/assets/colab-badge.svg\" alt=\"Open In Colab\"/></a>"
      ]
    },
    {
      "cell_type": "markdown",
      "source": [
        "#Aplicación: Juego de Aventuras en Texto\n",
        "\n",
        "En este juego, el jugador explora un laberinto representado por una matriz (lista de listas). El jugador puede moverse en cuatro direcciones (arriba, abajo, izquierda, derecha) para descubrir diferentes habitaciones. Algunas habitaciones contienen objetos que el jugador puede recoger, almacenándolos en un inventario (diccionario). También hay trampas y obstáculos que el jugador debe evitar."
      ],
      "metadata": {
        "id": "v9FPbz7XAfqb"
      }
    },
    {
      "cell_type": "markdown",
      "source": [
        "Instrucciones: Responde las siguientes preguntas. Cada pregunta requiere aplicar los conceptos aprendidos en clase. Escribe el código necesario y explica brevemente tu razonamiento cuando sea apropiado. Se espera que este examen represente un desafío y que demuestres tu comprensión profunda de los temas."
      ],
      "metadata": {
        "id": "pkpRFH6XA2NA"
      }
    },
    {
      "cell_type": "code",
      "source": [
        "nombre = input(\"Introduce tu nombre: \")\n",
        "apellido = input(\"Introduce tu apellido: \")\n",
        "\n",
        "nombre = nombre.capitalize()\n",
        "apellido = apellido.capitalize()\n",
        "\n",
        "print(f\"Buena Suerte, {nombre} {apellido}!\")"
      ],
      "metadata": {
        "colab": {
          "base_uri": "https://localhost:8080/"
        },
        "id": "8wXyRlUJBDeE",
        "outputId": "3ea03ed5-a7db-4c6b-875f-467cbb611313"
      },
      "execution_count": 1,
      "outputs": [
        {
          "output_type": "stream",
          "name": "stdout",
          "text": [
            "Introduce tu nombre: osben\n",
            "Introduce tu apellido: vizcarra\n",
            "Buena Suerte, Osben Vizcarra!\n"
          ]
        }
      ]
    },
    {
      "cell_type": "markdown",
      "source": [
        "## Pregunta 1: Matrices y Estructuras de Control\n",
        "\n",
        "Crea un laberinto de 5x5 representado por una matriz (lista de listas). Inicializa la matriz con paredes representadas por '#' en los bordes y espacios vacíos representados por ' ' en el interior. Escribe el código para crear esta matriz y muestra el laberinto en pantalla de forma que cada fila aparezca en una línea diferente.\n"
      ],
      "metadata": {
        "id": "rxl_hDPQBMjs"
      }
    },
    {
      "cell_type": "code",
      "execution_count": 9,
      "metadata": {
        "id": "dgBS-FUDAXCR"
      },
      "outputs": [],
      "source": [
        "# Crea un laberinto definido por una matriz 5x5 representado por una matriz con filas y columnas.\n",
        "\n",
        "def crear_laberinto(filas, columnas):\n",
        "  laberinto = []\n",
        "  for i in range(filas):\n",
        "    fila = []\n",
        "    for j in range(columnas):\n",
        "      if i == 0 or i == filas - 1 or j == 0 or j == columnas - 1:\n",
        "        fila.append('#')\n",
        "      else:\n",
        "        fila.append(' ')\n",
        "    laberinto.append(fila)\n",
        "  return laberinto\n"
      ]
    },
    {
      "cell_type": "code",
      "source": [
        "# Mostrar el laberinto definido anteriormente.\n",
        "\n",
        "def mostrar_laberinto(laberinto):\n",
        "  for fila in laberinto:\n",
        "    print(''.join(fila))\n",
        "mostrar_laberinto(laberinto)"
      ],
      "metadata": {
        "colab": {
          "base_uri": "https://localhost:8080/"
        },
        "id": "ZKnabNQNB27j",
        "outputId": "08f327c8-6200-4275-a93d-d97166db5b29"
      },
      "execution_count": 10,
      "outputs": [
        {
          "output_type": "stream",
          "name": "stdout",
          "text": [
            "#####\n",
            "#   #\n",
            "#   #\n",
            "#   #\n",
            "#####\n"
          ]
        }
      ]
    },
    {
      "cell_type": "markdown",
      "source": [
        "## Pregunta 2: Slicing y Mostrar el Laberinto\n",
        "\n",
        "Muestra el laberinto en pantalla marcando la posición del jugador con una 'P'. La posición inicial del jugador es (1, 1). Asegúrate de que la posición del jugador se refleje correctamente en la salida. Utiliza slicing para ayudar a mostrar las filas.\n"
      ],
      "metadata": {
        "id": "XZpkmCyYCo7B"
      }
    },
    {
      "cell_type": "code",
      "source": [
        "# Definiendo posición inicial del Jugador.\n",
        "\n",
        "posicion_del_jugador = (1, 1)"
      ],
      "metadata": {
        "id": "ocLevC9FCwOD"
      },
      "execution_count": 15,
      "outputs": []
    },
    {
      "cell_type": "code",
      "source": [
        "# Mostrar el laberinto en pantalla marcando la posición del jugador con una 'P'.\n",
        "\n",
        "def mostrar_laberinto_con_jugador(laberinto, posicion_jugador):\n",
        "  fila_jugador, columna_jugador = posicion_jugador\n",
        "  laberinto_copia = [fila[:] for fila in laberinto]\n",
        "  if 0 <= fila_jugador < len(laberinto_copia) and 0 <= columna_jugador < len(laberinto_copia[0]):\n",
        "    laberinto_copia[fila_jugador][columna_jugador] = 'P'\n",
        "  for fila in laberinto_copia:\n",
        "    print(''.join(fila))\n",
        "\n",
        "mostrar_laberinto_con_jugador(laberinto, posicion_del_jugador)"
      ],
      "metadata": {
        "colab": {
          "base_uri": "https://localhost:8080/"
        },
        "id": "C6DkF4zLDRAH",
        "outputId": "90476987-0b38-4381-c307-ae3cef2d7a67"
      },
      "execution_count": 16,
      "outputs": [
        {
          "output_type": "stream",
          "name": "stdout",
          "text": [
            "#####\n",
            "#P  #\n",
            "#   #\n",
            "#   #\n",
            "#####\n"
          ]
        }
      ]
    },
    {
      "cell_type": "markdown",
      "source": [
        "## Pregunta 3: Diccionarios y Control de Flujo\n",
        "\n",
        "Crea un diccionario llamado inventario para almacenar los objetos que el jugador recolecta. Escribe el código que agrega un objeto al inventario cuando el jugador lo encuentra. Si el objeto ya existe en el inventario, incrementa su cantidad en 1; si no, añade el objeto al inventario con cantidad 1.\n"
      ],
      "metadata": {
        "id": "RUfE3McmDjch"
      }
    },
    {
      "cell_type": "code",
      "source": [
        "# Crear un diccionario llamado inventario para almacenar los objetos que el jugador recolecta.\n",
        "\n",
        "inventario = {}"
      ],
      "metadata": {
        "id": "AfMxFKeLDoGV"
      },
      "execution_count": 17,
      "outputs": []
    },
    {
      "cell_type": "code",
      "source": [
        "# Escribe el código que agrega un objeto al inventario cuando el jugador lo encuentra.\n",
        "\n",
        "def agregar_objeto(objeto):\n",
        "  if objeto in inventario:\n",
        "    inventario[objeto] += 1\n",
        "  else:\n",
        "    inventario[objeto] = 1\n",
        "\n",
        "print(\"Tienes los siguientes objetos:\",inventario)"
      ],
      "metadata": {
        "colab": {
          "base_uri": "https://localhost:8080/"
        },
        "id": "BxyBTzRVD7AM",
        "outputId": "63c74578-bd27-449e-b10a-fe84d6f6ca78"
      },
      "execution_count": 22,
      "outputs": [
        {
          "output_type": "stream",
          "name": "stdout",
          "text": [
            "Tienes los siguientes objetos: {}\n"
          ]
        }
      ]
    },
    {
      "cell_type": "markdown",
      "source": [
        "## Pregunta 4: Listas por Comprensión y Sets\n",
        "\n",
        "Supón que tienes una lista de objetos únicos del juego llamada objetos_unicos = ['espada', 'escudo', 'poción']. A partir del inventario, utiliza una lista por comprensión para extraer los objetos que están en objetos_unicos. Luego, convierte esta lista en un set para eliminar duplicados y muestra el set resultante.\n"
      ],
      "metadata": {
        "id": "Y7c3NtLDEmHl"
      }
    },
    {
      "cell_type": "code",
      "source": [
        "# Definiendo listado de objetos únicos del juego.\n",
        "\n",
        "objetos_unicos = ['espada', 'escudo', 'poción']\n",
        "inventario_lista = list(inventario.keys())"
      ],
      "metadata": {
        "id": "MrpMMz-_Epb0"
      },
      "execution_count": 23,
      "outputs": []
    },
    {
      "cell_type": "code",
      "source": [
        "# Utiliza una lista por comprensión para extraer los objetos únicos del inventario.\n",
        "\n",
        "objetos_en_comun = [objeto for objeto in inventario_lista if objeto in objetos_unicos]"
      ],
      "metadata": {
        "id": "PuLZX2tJE2GG"
      },
      "execution_count": 24,
      "outputs": []
    },
    {
      "cell_type": "code",
      "source": [
        "# Convertir la lista a un set para eliminar duplicados.\n",
        "\n",
        "objetos_en_comun_set = set(objetos_en_comun)\n",
        "\n",
        "print(objetos_en_comun_set)"
      ],
      "metadata": {
        "colab": {
          "base_uri": "https://localhost:8080/"
        },
        "id": "Im860dfiE_cK",
        "outputId": "0407d5b9-639e-449b-8669-6f82ee15c95d"
      },
      "execution_count": 25,
      "outputs": [
        {
          "output_type": "stream",
          "name": "stdout",
          "text": [
            "set()\n"
          ]
        }
      ]
    },
    {
      "cell_type": "markdown",
      "source": [
        "## Pregunta 5: Manipulación de Strings y Estructuras de Control\n",
        "\n",
        "Cuando el jugador encuentra un objeto, debes mostrar un mensaje personalizado que incluya el nombre del objeto en mayúsculas y la cantidad total en el inventario. Por ejemplo: \"¡Has encontrado una ESPADA! Ahora tienes 2 ESPADAS.\" Escribe el código que genera este mensaje utilizando manipulación de strings y accediendo al inventario.\n"
      ],
      "metadata": {
        "id": "CQuCPYpEFOaD"
      }
    },
    {
      "cell_type": "code",
      "source": [
        "# Definir código para encuentro de objetos.\n",
        "\n",
        "def mostrar_mensaje_objeto_encontrado(objeto):\n",
        "  objeto_en_mayusculas = objeto.upper()\n",
        "  if objeto in inventario:\n",
        "    cantidad = inventario[objeto]\n",
        "    print(f\"¡Has encontrado una {objeto_en_mayusculas}! Ahora tienes {cantidad} {objeto_en_mayusculas}.\")\n",
        "  else:\n",
        "    print(f\"¡Has encontrado una {objeto_en_mayusculas}! Ahora tienes 1 {objeto_en_mayusculas}.\")"
      ],
      "metadata": {
        "id": "oVBDGySKFcUd"
      },
      "execution_count": 26,
      "outputs": []
    },
    {
      "cell_type": "markdown",
      "source": [
        "## Pregunta 6: Slicing y Control de Flujo\n",
        "\n",
        "Las trampas en el laberinto están en posiciones almacenadas en la lista trampas = [(1, 2), (3, 4), (2, 2)]. Escribe el código que verifica si la posición actual del jugador coincide con alguna trampa. Si es así, reduce la salud del jugador en 10 puntos. La salud inicial del jugador es 100. Utiliza una técnica eficiente para la verificación.\n"
      ],
      "metadata": {
        "id": "mw2OUyJ3FSZL"
      }
    },
    {
      "cell_type": "code",
      "source": [
        "# Definir las ubicaciones de las trampas dentro de la matriz laberinto.\n",
        "\n",
        "trampas = [(1, 2), (3, 4), (2, 2)]\n",
        "salud_jugador = 100\n",
        "posicion_actual = (1, 1)"
      ],
      "metadata": {
        "id": "Xbph-jcYF3k7"
      },
      "execution_count": 27,
      "outputs": []
    },
    {
      "cell_type": "code",
      "source": [
        "# Verificar si la posición actual coincide con alguna trampa en el laberinto.\n",
        "\n",
        "if posicion_actual in trampas:\n",
        "  salud_jugador -= 10\n",
        "\n",
        "print(f\"La salud del jugador es: {salud_jugador}\")"
      ],
      "metadata": {
        "colab": {
          "base_uri": "https://localhost:8080/"
        },
        "id": "RBysZeHQGL25",
        "outputId": "9fb08675-3d73-4d11-dca1-a05719143f76"
      },
      "execution_count": 29,
      "outputs": [
        {
          "output_type": "stream",
          "name": "stdout",
          "text": [
            "La salud del jugador es: 100\n"
          ]
        }
      ]
    },
    {
      "cell_type": "markdown",
      "source": [
        "## Pregunta 7: Listas Anidadas y Modificación de Matrices\n",
        "\n",
        "Cada vez que el jugador se mueve, actualiza la matriz del laberinto para reflejar el movimiento: coloca un espacio ' ' en la posición anterior y una 'P' en la nueva posición. Escribe el código que realiza esta actualización sin modificar las paredes ni otros elementos.\n"
      ],
      "metadata": {
        "id": "gZhN80bfFWly"
      }
    },
    {
      "cell_type": "code",
      "source": [
        "# Actualización de matriz en base a nuevas posiciones de filas y columnas.\n",
        "\n",
        "def actualizar_laberinto(laberinto, posicion_anterior, nueva_posicion):\n",
        "  fila_anterior, columna_anterior = posicion_anterior\n",
        "  fila_nueva, columna_nueva = nueva_posicion\n",
        "\n",
        "  if 0 < fila_anterior < len(laberinto) - 1 and 0 < columna_anterior < len(laberinto[0]) - 1:\n",
        "    laberinto[fila_anterior][columna_anterior] = ' '\n",
        "\n",
        "  if 0 < fila_nueva < len(laberinto) - 1 and 0 < columna_nueva < len(laberinto[0]) - 1:\n",
        "    laberinto[fila_nueva][columna_nueva] = 'P'"
      ],
      "metadata": {
        "id": "v-UWKS-2Gmuc"
      },
      "execution_count": 30,
      "outputs": []
    },
    {
      "cell_type": "code",
      "source": [
        "# Generar movimiento desde la posición (1,1) hacia la nueva posición (2,1)\n",
        "\n",
        "laberinto = crear_laberinto(5, 5)\n",
        "posicion_anterior = (1, 1)\n",
        "nueva_posicion = (2, 1)"
      ],
      "metadata": {
        "id": "GSo9ObT3HVqA"
      },
      "execution_count": 48,
      "outputs": []
    },
    {
      "cell_type": "code",
      "source": [
        "# Actualizar e imprimir el laberinto.\n",
        "\n",
        "actualizar_laberinto(laberinto, posicion_anterior, nueva_posicion)\n",
        "mostrar_laberinto(laberinto)"
      ],
      "metadata": {
        "colab": {
          "base_uri": "https://localhost:8080/"
        },
        "id": "c_9VLfLNHh_T",
        "outputId": "abc9f025-8ea2-4004-c3e5-c4e8cd02b0fe"
      },
      "execution_count": 49,
      "outputs": [
        {
          "output_type": "stream",
          "name": "stdout",
          "text": [
            "#####\n",
            "#   #\n",
            "#P  #\n",
            "#   #\n",
            "#####\n"
          ]
        }
      ]
    },
    {
      "cell_type": "markdown",
      "source": [
        "## Pregunta 8: Control de Flujo y Movimientos del Jugador\n",
        "\n",
        "Escribe el código que permite al jugador moverse dentro del laberinto ingresando una dirección: 'arriba', 'abajo', 'izquierda' o 'derecha'. Actualiza la posición del jugador según la dirección ingresada, asegurándote de que no salga de los límites de la matriz ni atraviese paredes ('#'). Utiliza estructuras de control (condicionales) para manejar las reglas de movimiento. Considerar que si se intenta atravesar una pared ('#') se deberá lanzar un mensaje de movimiento inválido y se mantendrá la misma posición.\n"
      ],
      "metadata": {
        "id": "yJiKHlajFYdI"
      }
    },
    {
      "cell_type": "code",
      "source": [
        "# Definir movimiento del jugador en las siguientes direcciones: ('arriba','abajo','izquierda','derecha')\n",
        "\n",
        "def mover_jugador(laberinto, posicion_jugador, direccion):\n",
        "  fila_jugador, columna_jugador = posicion_jugador\n",
        "  nueva_fila, nueva_columna = fila_jugador, columna_jugador\n",
        "\n",
        "  if direccion == 'arriba':\n",
        "    nueva_fila -= 1\n",
        "  elif direccion == 'abajo':\n",
        "    nueva_fila += 1\n",
        "  elif direccion == 'izquierda':\n",
        "    nueva_columna -= 1\n",
        "  elif direccion == 'derecha':\n",
        "    nueva_columna += 1\n",
        "\n",
        "  if (0 <= nueva_fila < len(laberinto) and\n",
        "      0 <= nueva_columna < len(laberinto[0]) and\n",
        "      laberinto[nueva_fila][nueva_columna] != '#'):\n",
        "    return (nueva_fila, nueva_columna)\n",
        "  else:\n",
        "    print(\"Movimiento inválido. Hay una pared o estás intentando salir del laberinto.\")\n",
        "    return posicion_jugador"
      ],
      "metadata": {
        "id": "5QOZNgsfG-IP"
      },
      "execution_count": 56,
      "outputs": []
    },
    {
      "cell_type": "code",
      "source": [
        "# Creación de laberinto y definición de posición actual.\n",
        "\n",
        "laberinto = crear_laberinto(5, 5)\n",
        "posicion_del_jugador = (1, 1)\n",
        "mostrar_laberinto_con_jugador(laberinto, posicion_del_jugador)\n",
        "\n",
        "direccion = input(\"Ingresa la dirección (arriba, abajo, izquierda, derecha): \")\n",
        "nueva_posicion = mover_jugador(laberinto, posicion_del_jugador, direccion)\n",
        "\n",
        "if nueva_posicion != posicion_del_jugador:\n",
        "  actualizar_laberinto(laberinto, posicion_del_jugador, nueva_posicion)\n",
        "  posicion_del_jugador = nueva_posicion\n",
        "  mostrar_laberinto_con_jugador(laberinto, posicion_del_jugador)"
      ],
      "metadata": {
        "colab": {
          "base_uri": "https://localhost:8080/"
        },
        "id": "VjPb_mNgIv6Q",
        "outputId": "bed73abf-864a-49e5-bf2c-1c302758d01a"
      },
      "execution_count": 57,
      "outputs": [
        {
          "output_type": "stream",
          "name": "stdout",
          "text": [
            "#####\n",
            "#P  #\n",
            "#   #\n",
            "#   #\n",
            "#####\n",
            "Ingresa la dirección (arriba, abajo, izquierda, derecha): abajo\n",
            "#####\n",
            "#   #\n",
            "#P  #\n",
            "#   #\n",
            "#####\n"
          ]
        }
      ]
    }
  ]
}