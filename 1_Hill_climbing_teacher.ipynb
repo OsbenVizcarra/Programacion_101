{
  "nbformat": 4,
  "nbformat_minor": 0,
  "metadata": {
    "colab": {
      "provenance": [],
      "include_colab_link": true
    },
    "kernelspec": {
      "name": "python3",
      "display_name": "Python 3"
    },
    "language_info": {
      "name": "python"
    }
  },
  "cells": [
    {
      "cell_type": "markdown",
      "metadata": {
        "id": "view-in-github",
        "colab_type": "text"
      },
      "source": [
        "<a href=\"https://colab.research.google.com/github/OsbenVizcarra/Programacion_101/blob/main/1_Hill_climbing_teacher.ipynb\" target=\"_parent\"><img src=\"https://colab.research.google.com/assets/colab-badge.svg\" alt=\"Open In Colab\"/></a>"
      ]
    },
    {
      "cell_type": "markdown",
      "source": [
        "#Hill climbing search"
      ],
      "metadata": {
        "id": "l53KCHGbTxwM"
      }
    },
    {
      "cell_type": "markdown",
      "source": [
        "![](https://drive.google.com/uc?export=view&id=1IlgFVvt98JrqeC7A1eracheX7oUHBx0E)"
      ],
      "metadata": {
        "id": "FcVmwFu6TvxI"
      }
    },
    {
      "cell_type": "code",
      "execution_count": 32,
      "metadata": {
        "id": "awp6eqnKGZ7L",
        "colab": {
          "base_uri": "https://localhost:8080/"
        },
        "outputId": "cdba65ee-dc37-4bd3-f6cb-92721eef4e3f"
      },
      "outputs": [
        {
          "output_type": "stream",
          "name": "stdout",
          "text": [
            "[1 0 2 3]\n"
          ]
        }
      ],
      "source": [
        "import numpy as np\n",
        "\n",
        "TSP = [\n",
        "    [0,   200,  600,  100],\n",
        "    [200,   0,  300,  100],\n",
        "    [600, 300,  0,    400],\n",
        "    [100, 100,  400,  0],\n",
        "]\n",
        "\n",
        "# Step 1\n",
        "current_solution = np.array([0,1,2,3])\n",
        "np.random.shuffle(current_solution)\n",
        "\n",
        "print(current_solution)"
      ]
    },
    {
      "cell_type": "code",
      "source": [
        "def fitness(sol):\n",
        "  distance = 0\n",
        "  for i in range(len(sol)-1):\n",
        "    distance = distance + TSP[sol[i]][sol[i+1]]\n",
        "  return distance\n",
        "\n",
        "print(fitness(current_solution))"
      ],
      "metadata": {
        "colab": {
          "base_uri": "https://localhost:8080/"
        },
        "id": "BfVFdznJV5BU",
        "outputId": "e9e4b9d6-cd7f-44a0-a262-deb4966482fa"
      },
      "execution_count": 33,
      "outputs": [
        {
          "output_type": "stream",
          "name": "stdout",
          "text": [
            "1200\n"
          ]
        }
      ]
    },
    {
      "cell_type": "code",
      "source": [
        "def get_neighbours(sol):\n",
        "  neighbours = []\n",
        "\n",
        "  for i in range(len(sol) - 1):\n",
        "    for j in range( i + 1 , len(sol) ):\n",
        "      new_sol = sol.copy()\n",
        "      new_sol[i], new_sol[j] = new_sol[j], new_sol[i]\n",
        "      neighbours.append(new_sol)\n",
        "  return neighbours\n",
        "\n",
        "print(current_solution)\n",
        "print(get_neighbours(current_solution))"
      ],
      "metadata": {
        "colab": {
          "base_uri": "https://localhost:8080/"
        },
        "id": "LlcSgnBLXb1s",
        "outputId": "46dd56c5-4002-4ae7-acb0-62cf49d520e8"
      },
      "execution_count": 34,
      "outputs": [
        {
          "output_type": "stream",
          "name": "stdout",
          "text": [
            "[1 0 2 3]\n",
            "[array([0, 1, 2, 3]), array([2, 0, 1, 3]), array([3, 0, 2, 1]), array([1, 2, 0, 3]), array([1, 3, 2, 0]), array([1, 0, 3, 2])]\n"
          ]
        }
      ]
    },
    {
      "cell_type": "code",
      "source": [
        "def hill_climbing(current_solution):\n",
        "  while(True):\n",
        "    # 1er Paso: Encontrar el mejor vecino\n",
        "    neighbours = get_neighbours(current_solution) # Obtener los vecinos\n",
        "    best_neighbour = min(neighbours, key=fitness) # Hallar el mínimo en una colección de datos, pero guiándose de la categoría fitness\n",
        "\n",
        "    #2do Paso: Comparo los resultados de los vecinos\n",
        "    if fitness(best_neighbour) < fitness(current_solution):\n",
        "      current_solution = best_neighbour\n",
        "      sol = best_neighbour\n",
        "    else:\n",
        "      return sol\n",
        "\n",
        "current_solution = np.array([0,1,2,3])\n",
        "np.random.shuffle(current_solution)\n",
        "print(\"x\", current_solution)\n",
        "\n",
        "final_solution = hill_climbing( current_solution )\n",
        "print(\"x\", final_solution)\n",
        "print(\"dist\", fitness(final_solution))"
      ],
      "metadata": {
        "colab": {
          "base_uri": "https://localhost:8080/"
        },
        "id": "aofBEKL1EZ-I",
        "outputId": "9b79e0e0-8058-4604-b32b-5cf2af03b563"
      },
      "execution_count": 38,
      "outputs": [
        {
          "output_type": "stream",
          "name": "stdout",
          "text": [
            "x [1 3 0 2]\n",
            "x [0 3 1 2]\n",
            "dist 500\n"
          ]
        }
      ]
    },
    {
      "cell_type": "code",
      "source": [
        "min(5,4)"
      ],
      "metadata": {
        "colab": {
          "base_uri": "https://localhost:8080/"
        },
        "id": "qESf7ILGFTKk",
        "outputId": "a7e4bb06-674a-4a3d-c069-fa7572956341"
      },
      "execution_count": 17,
      "outputs": [
        {
          "output_type": "execute_result",
          "data": {
            "text/plain": [
              "4"
            ]
          },
          "metadata": {},
          "execution_count": 17
        }
      ]
    },
    {
      "cell_type": "code",
      "source": [
        "min([5 , 4 , 7])"
      ],
      "metadata": {
        "colab": {
          "base_uri": "https://localhost:8080/"
        },
        "id": "zPconheUFVQh",
        "outputId": "b5cbab65-7547-4536-d96f-96595d912268"
      },
      "execution_count": 18,
      "outputs": [
        {
          "output_type": "execute_result",
          "data": {
            "text/plain": [
              "4"
            ]
          },
          "metadata": {},
          "execution_count": 18
        }
      ]
    },
    {
      "cell_type": "code",
      "source": [
        "min([4,5,6],[7,8,9],[1,2,3])"
      ],
      "metadata": {
        "colab": {
          "base_uri": "https://localhost:8080/"
        },
        "id": "n-1wogK2Ff8P",
        "outputId": "16d40e64-d30b-496e-c285-d90df977c254"
      },
      "execution_count": 19,
      "outputs": [
        {
          "output_type": "execute_result",
          "data": {
            "text/plain": [
              "[1, 2, 3]"
            ]
          },
          "metadata": {},
          "execution_count": 19
        }
      ]
    }
  ]
}