{
  "nbformat": 4,
  "nbformat_minor": 0,
  "metadata": {
    "colab": {
      "provenance": [],
      "include_colab_link": true
    },
    "kernelspec": {
      "name": "python3",
      "display_name": "Python 3"
    },
    "language_info": {
      "name": "python"
    }
  },
  "cells": [
    {
      "cell_type": "markdown",
      "metadata": {
        "id": "view-in-github",
        "colab_type": "text"
      },
      "source": [
        "<a href=\"https://colab.research.google.com/github/OsbenVizcarra/Programacion_101/blob/main/1_Hill_climbing_teacher.ipynb\" target=\"_parent\"><img src=\"https://colab.research.google.com/assets/colab-badge.svg\" alt=\"Open In Colab\"/></a>"
      ]
    },
    {
      "cell_type": "markdown",
      "source": [
        "#Hill climbing search"
      ],
      "metadata": {
        "id": "l53KCHGbTxwM"
      }
    },
    {
      "cell_type": "markdown",
      "source": [
        "![](https://drive.google.com/uc?export=view&id=1IlgFVvt98JrqeC7A1eracheX7oUHBx0E)"
      ],
      "metadata": {
        "id": "FcVmwFu6TvxI"
      }
    },
    {
      "cell_type": "code",
      "execution_count": null,
      "metadata": {
        "id": "awp6eqnKGZ7L",
        "colab": {
          "base_uri": "https://localhost:8080/"
        },
        "outputId": "2f5124b5-ed1d-4223-ad09-22fcc078e420"
      },
      "outputs": [
        {
          "output_type": "stream",
          "name": "stdout",
          "text": [
            "[1 3 0 2]\n"
          ]
        }
      ],
      "source": [
        "import numpy as np\n",
        "\n",
        "TSP = [\n",
        "    [0,   200,  600,  100],\n",
        "    [200,   0,  300,  100],\n",
        "    [600, 300,  0,    400],\n",
        "    [100, 100,  400,  0],\n",
        "]\n",
        "\n",
        "# Step 1\n",
        "current_solution = np.array([0,1,2,3])\n",
        "np.random.shuffle(current_solution)\n",
        "\n",
        "print(current_solution)"
      ]
    },
    {
      "cell_type": "code",
      "source": [
        "def fitness(sol):\n"
      ],
      "metadata": {
        "colab": {
          "base_uri": "https://localhost:8080/"
        },
        "id": "BfVFdznJV5BU",
        "outputId": "dbe1874d-5f78-4b25-f42e-158692a5129a"
      },
      "execution_count": null,
      "outputs": [
        {
          "output_type": "stream",
          "name": "stdout",
          "text": [
            "900\n",
            "[array([1, 3, 0, 2]), array([0, 1, 3, 2]), array([2, 1, 0, 3]), array([3, 0, 1, 2]), array([3, 2, 0, 1]), array([3, 1, 2, 0])]\n"
          ]
        }
      ]
    },
    {
      "cell_type": "code",
      "source": [],
      "metadata": {
        "colab": {
          "base_uri": "https://localhost:8080/"
        },
        "id": "LlcSgnBLXb1s",
        "outputId": "07425f18-d30d-437d-f8c0-add246ef8094"
      },
      "execution_count": null,
      "outputs": [
        {
          "output_type": "stream",
          "name": "stdout",
          "text": [
            "[0 3 1 2]\n"
          ]
        }
      ]
    }
  ]
}