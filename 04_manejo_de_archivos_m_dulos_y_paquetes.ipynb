{
  "nbformat": 4,
  "nbformat_minor": 0,
  "metadata": {
    "colab": {
      "provenance": [],
      "include_colab_link": true
    },
    "kernelspec": {
      "name": "python3",
      "display_name": "Python 3"
    },
    "language_info": {
      "name": "python"
    }
  },
  "cells": [
    {
      "cell_type": "markdown",
      "metadata": {
        "id": "view-in-github",
        "colab_type": "text"
      },
      "source": [
        "<a href=\"https://colab.research.google.com/github/OsbenVizcarra/Programacion_101/blob/main/04_manejo_de_archivos_m_dulos_y_paquetes.ipynb\" target=\"_parent\"><img src=\"https://colab.research.google.com/assets/colab-badge.svg\" alt=\"Open In Colab\"/></a>"
      ]
    },
    {
      "cell_type": "markdown",
      "source": [
        "<img src=\"https://www.ctic.uni.edu.pe/wp-content/uploads/2022/04/588px-x-348px-web-1.png\" alt=\"HTML5 Icon\" width=\"900\" height=\"350\" >\n"
      ],
      "metadata": {
        "id": "VYCA3mfHuKK1"
      }
    },
    {
      "cell_type": "markdown",
      "source": [
        "# Laboratorio de Manejo de Archivos, Módulos y Paquetes"
      ],
      "metadata": {
        "id": "yTCotkPgt1ND"
      }
    },
    {
      "cell_type": "markdown",
      "source": [
        "**Objetivo:**\n",
        "\n",
        "Este laboratorio está diseñado para que los estudiantes comprendan el uso de archivos en Python, cómo leer y escribir datos en ellos, y cómo crear y usar módulos y paquetes. A través de ejercicios prácticos, los estudiantes ganarán experiencia en el manejo de archivos y la organización de código en módulos y paquetes."
      ],
      "metadata": {
        "id": "-N-rAuN7t4Hx"
      }
    },
    {
      "cell_type": "markdown",
      "source": [
        "**Contenido del Laboratorio**\n",
        "\n",
        "1. <a href=\"#item31\">Manejo de Archivos</a>\n",
        "2. <a href=\"#item31\">Módulos y Paquetes</a>\n",
        "3. <a href=\"#item31\">Creación de Módulos</a>\n",
        "4. <a href=\"#item31\">Importación y Uso de Módulos</a>\n",
        "5. <a href=\"#item31\">Estructura de Paquetes</a>\n",
        "\n",
        "</font>\n",
        "</div>\n",
        "\n",
        "\n",
        "---"
      ],
      "metadata": {
        "id": "I7kBfToyt7mb"
      }
    },
    {
      "cell_type": "markdown",
      "source": [
        "## 1. Manejo de Archivos\n"
      ],
      "metadata": {
        "id": "ZVU2O0lWuggb"
      }
    },
    {
      "cell_type": "markdown",
      "source": [
        "### 1.1 Conceptos Básicos\n",
        "\n",
        "En Python, se pueden manejar archivos de texto (como .txt o .csv) y archivos binarios. Un archivo tiene una ubicación (ruta) en el sistema, que puede ser relativa (relacionada con el directorio actual) o absoluta (dirección completa desde la raíz del sistema)."
      ],
      "metadata": {
        "id": "Gs_aOoApujEG"
      }
    },
    {
      "cell_type": "markdown",
      "source": [
        "**Ejemplo: Rutas Absolutas y Relativas**"
      ],
      "metadata": {
        "id": "dzA-ji7jumGk"
      }
    },
    {
      "cell_type": "code",
      "execution_count": null,
      "metadata": {
        "id": "21XNjtcyjADn"
      },
      "outputs": [],
      "source": [
        "# Ruta absoluta (dependerá de tu sistema operativo y estructura de archivos)\n",
        "ruta_absoluta = \"C:/Users/Usuario/Documents/archivo.txt\"\n",
        "\n",
        "# Ruta relativa (relativa al directorio de trabajo actual)\n",
        "ruta_relativa = \"datos/archivo.txt\"\n"
      ]
    },
    {
      "cell_type": "markdown",
      "source": [
        "**Ejercicio 1.1:**\n",
        "\n",
        "Define dos variables en tu código:\n",
        "\n",
        "Una ruta absoluta que apunte a un archivo en tu computadora.\n",
        "Una ruta relativa que apunte a un archivo en un subdirectorio llamado data."
      ],
      "metadata": {
        "id": "G6G9COipurdK"
      }
    },
    {
      "cell_type": "code",
      "source": [],
      "metadata": {
        "id": "FSrVIbqRvyr6"
      },
      "execution_count": null,
      "outputs": []
    },
    {
      "cell_type": "markdown",
      "source": [
        "### 1.2 Operaciones Básicas: Lectura y Escritura de Archivos de Texto\n",
        "\n",
        "En Python, se pueden realizar operaciones básicas en archivos usando la función open(). Es necesario especificar el modo de apertura:\n",
        "\n",
        "> \"r\": lectura (por defecto)\n",
        ">\n",
        "> \"w\": escritura (sobrescribe el contenido si el archivo ya existe)\n",
        ">\n",
        "> \"a\": añadir al final del archivo"
      ],
      "metadata": {
        "id": "k634elEDuy05"
      }
    },
    {
      "cell_type": "markdown",
      "source": [
        "**Ejemplo de Apertura de Archivo para Lectura**\n"
      ],
      "metadata": {
        "id": "h0aSUOYWu51i"
      }
    },
    {
      "cell_type": "code",
      "source": [
        "# Abriendo un archivo para lectura\n",
        "archivo = open(\"datos/archivo.txt\", \"r\")\n",
        "contenido = archivo.read()  # Lee todo el contenido\n",
        "print(contenido)\n",
        "archivo.close()  # Cerrar el archivo para liberar recursos\n"
      ],
      "metadata": {
        "id": "K-hwY4B2vJvt"
      },
      "execution_count": null,
      "outputs": []
    },
    {
      "cell_type": "markdown",
      "source": [
        "**Ejemplo de Escritura en Archivo**"
      ],
      "metadata": {
        "id": "UCpHphLou49u"
      }
    },
    {
      "cell_type": "code",
      "source": [
        "# Abriendo un archivo para escritura\n",
        "archivo = open(\"datos/archivo.txt\", \"w\")\n",
        "archivo.write(\"Escribiendo en el archivo...\\n\")\n",
        "archivo.write(\"Esta es una nueva línea.\\n\")\n",
        "archivo.close()\n"
      ],
      "metadata": {
        "id": "IktaMJSSuymu"
      },
      "execution_count": null,
      "outputs": []
    },
    {
      "cell_type": "markdown",
      "source": [
        "**Ejercicio 1.2**\n"
      ],
      "metadata": {
        "id": "H2OCnLpMvwaT"
      }
    },
    {
      "cell_type": "markdown",
      "source": [
        "- Crea un archivo de texto llamado prueba.txt en el cual escribas tres líneas de texto.\n",
        "- Lee el archivo prueba.txt y muestra su contenido en pantalla.\n",
        "- Escribe desde python una modificacion en el archivo"
      ],
      "metadata": {
        "id": "0LESvadIv6FK"
      }
    },
    {
      "cell_type": "markdown",
      "source": [
        "### 1.3 Leer y Escribir Archivos Línea por Línea"
      ],
      "metadata": {
        "id": "49MrhKW4wJj-"
      }
    },
    {
      "cell_type": "markdown",
      "source": [
        "Podemos leer un archivo línea por línea usando readline() o readlines() para obtener una lista de líneas."
      ],
      "metadata": {
        "id": "NAH7J4cDwMHS"
      }
    },
    {
      "cell_type": "markdown",
      "source": [
        "**Ejemplo de Leer Archivo Línea por Línea**"
      ],
      "metadata": {
        "id": "I5prWHhIwOR0"
      }
    },
    {
      "cell_type": "code",
      "source": [
        "# Leer un archivo línea por línea\n",
        "archivo = open(\"datos/archivo.txt\", \"r\")\n",
        "linea = archivo.readline()\n",
        "while linea:\n",
        "    print(linea.strip())  # .strip() elimina los saltos de línea\n",
        "    linea = archivo.readline()\n",
        "archivo.close()\n"
      ],
      "metadata": {
        "colab": {
          "base_uri": "https://localhost:8080/"
        },
        "id": "bWbvPnh2v1EG",
        "outputId": "3a173cd7-d23d-414a-92b8-25470b65e12e"
      },
      "execution_count": null,
      "outputs": [
        {
          "output_type": "stream",
          "name": "stdout",
          "text": [
            "Escribiendo en el archivo...\n",
            "Esta es una nueva línea.\n"
          ]
        }
      ]
    },
    {
      "cell_type": "markdown",
      "source": [
        "**Ejercicio 1.3**\n",
        "\n",
        "- Usa un bucle para leer y mostrar cada línea de un archivo datos.txt.\n",
        "- Crea un programa que cuente el número de líneas de un archivo llamado conteo.txt."
      ],
      "metadata": {
        "id": "G1_QhsBzwfq1"
      }
    },
    {
      "cell_type": "code",
      "source": [],
      "metadata": {
        "id": "LM1bad4jwimr"
      },
      "execution_count": null,
      "outputs": []
    },
    {
      "cell_type": "markdown",
      "source": [
        "### 1.4 Uso del Context Manager with open()\n"
      ],
      "metadata": {
        "id": "m2l4oBWywl_B"
      }
    },
    {
      "cell_type": "markdown",
      "source": [
        "El uso de with open() es recomendado porque asegura que el archivo se cierre automáticamente después de su uso, lo que previene errores y libera recursos."
      ],
      "metadata": {
        "id": "Up-s7q33woMI"
      }
    },
    {
      "cell_type": "markdown",
      "source": [
        "Ejemplo de with open()\n"
      ],
      "metadata": {
        "id": "vIGraY8Twr4q"
      }
    },
    {
      "cell_type": "code",
      "source": [
        "# Uso de with open para abrir y leer un archivo\n",
        "with open(\"datos/archivo.txt\", \"r\") as archivo:\n",
        "    contenido = archivo.read()\n",
        "    print(contenido)\n",
        "# Aquí el archivo se cierra automáticamente\n"
      ],
      "metadata": {
        "colab": {
          "base_uri": "https://localhost:8080/"
        },
        "id": "QA-M6yOexDPi",
        "outputId": "df6fc9b8-718a-404c-90ed-93401cec9fc2"
      },
      "execution_count": null,
      "outputs": [
        {
          "output_type": "stream",
          "name": "stdout",
          "text": [
            "Escribiendo en el archivo...\n",
            "Esta es una nueva línea.\n",
            "\n"
          ]
        }
      ]
    },
    {
      "cell_type": "markdown",
      "source": [
        "**Ejercicio 1.4**\n",
        "\n",
        "- Abre un archivo llamado notas.txt usando with open() y lee todo su contenido.\n",
        "- Modifica el archivo notas.txt para agregar tres líneas más al final, usando el modo de apertura a."
      ],
      "metadata": {
        "id": "GbQ7QeT8xLCn"
      }
    },
    {
      "cell_type": "code",
      "source": [],
      "metadata": {
        "id": "K0YYRSGcxRDX"
      },
      "execution_count": null,
      "outputs": []
    },
    {
      "cell_type": "markdown",
      "source": [
        "## 2. Módulos y Paquetes\n"
      ],
      "metadata": {
        "id": "cSShLZQ5xRWI"
      }
    },
    {
      "cell_type": "markdown",
      "source": [
        "## 2.1 Creación de Módulos\n"
      ],
      "metadata": {
        "id": "fzRY5WecxbMG"
      }
    },
    {
      "cell_type": "code",
      "source": [
        "import math"
      ],
      "metadata": {
        "id": "zqlKrVn-CdhG"
      },
      "execution_count": 2,
      "outputs": []
    },
    {
      "cell_type": "code",
      "source": [
        "math.log(10)"
      ],
      "metadata": {
        "id": "T7LUNzBZC-1J",
        "outputId": "e8abaea4-79d2-48dc-e136-f37a5d4884c5",
        "colab": {
          "base_uri": "https://localhost:8080/"
        }
      },
      "execution_count": 3,
      "outputs": [
        {
          "output_type": "execute_result",
          "data": {
            "text/plain": [
              "2.302585092994046"
            ]
          },
          "metadata": {},
          "execution_count": 3
        }
      ]
    },
    {
      "cell_type": "code",
      "source": [
        "import seaborn as sns"
      ],
      "metadata": {
        "id": "STP4NWbWDkbx"
      },
      "execution_count": 4,
      "outputs": []
    },
    {
      "cell_type": "code",
      "source": [
        "sns.lineplot(x=[1,2,3],y=[4,5,6])"
      ],
      "metadata": {
        "id": "R_3fBi5bDnX_",
        "outputId": "027d7556-f4b1-4ed6-f122-e29b27dc19a6",
        "colab": {
          "base_uri": "https://localhost:8080/",
          "height": 448
        }
      },
      "execution_count": 7,
      "outputs": [
        {
          "output_type": "execute_result",
          "data": {
            "text/plain": [
              "<Axes: >"
            ]
          },
          "metadata": {},
          "execution_count": 7
        },
        {
          "output_type": "display_data",
          "data": {
            "text/plain": [
              "<Figure size 640x480 with 1 Axes>"
            ],
            "image/png": "[encoded data removed]"
          },
          "metadata": {}
        }
      ]
    },
    {
      "cell_type": "markdown",
      "source": [
        "Un módulo en Python es simplemente un archivo .py que contiene funciones, clases, o variables, y se puede importar en otros archivos. Vamos a crear un módulo saludos.py con una función para saludar."
      ],
      "metadata": {
        "id": "DCx_9vaNxe2T"
      }
    },
    {
      "cell_type": "markdown",
      "source": [
        "**Ejemplo de Creación de Módulo saludos.py**\n"
      ],
      "metadata": {
        "id": "yX1O0wtdxg89"
      }
    },
    {
      "cell_type": "code",
      "source": [
        "# saludos.py\n",
        "def saludo(nombre):\n",
        "    return f\"Hola, {nombre}!\"\n"
      ],
      "metadata": {
        "id": "pg7EVGUzxgpV"
      },
      "execution_count": null,
      "outputs": []
    },
    {
      "cell_type": "code",
      "source": [
        "from my_funxs import contar_multiplos"
      ],
      "metadata": {
        "id": "0Vhax-_fdKZf"
      },
      "execution_count": 9,
      "outputs": []
    },
    {
      "cell_type": "code",
      "source": [
        "contar_multiplos(10,2)"
      ],
      "metadata": {
        "id": "R9Vl_Rs9dPxw",
        "outputId": "d8da0b77-f958-4035-dbca-20b6af45777d",
        "colab": {
          "base_uri": "https://localhost:8080/"
        }
      },
      "execution_count": 10,
      "outputs": [
        {
          "output_type": "execute_result",
          "data": {
            "text/plain": [
              "(5, [0, 2, 4, 6, 8])"
            ]
          },
          "metadata": {},
          "execution_count": 10
        }
      ]
    },
    {
      "cell_type": "markdown",
      "source": [
        "Luego, en otro archivo, importamos el módulo saludos y usamos la función saludo().\n",
        "\n"
      ],
      "metadata": {
        "id": "Cs3GANvdxoQG"
      }
    },
    {
      "cell_type": "code",
      "source": [
        "# main.py\n",
        "import saludos\n",
        "\n",
        "print(saludos.saludo(\"Juan\"))\n"
      ],
      "metadata": {
        "colab": {
          "base_uri": "https://localhost:8080/"
        },
        "id": "9McXTwGsxqAU",
        "outputId": "3f324eca-207e-420e-b529-c8b04de32d6c"
      },
      "execution_count": null,
      "outputs": [
        {
          "output_type": "stream",
          "name": "stdout",
          "text": [
            "Hola, Juan!\n"
          ]
        }
      ]
    },
    {
      "cell_type": "markdown",
      "source": [
        "**Ejercicio 2.1**\n",
        "\n",
        "Crea un módulo llamado operaciones.py que contenga funciones para sumar, restar, multiplicar y dividir.\n",
        "Crea un archivo main.py que importe operaciones.py y use cada una de sus funciones.\n"
      ],
      "metadata": {
        "id": "INQjskiDx9P9"
      }
    },
    {
      "cell_type": "code",
      "source": [],
      "metadata": {
        "id": "6dYSWORYyAx1"
      },
      "execution_count": null,
      "outputs": []
    },
    {
      "cell_type": "markdown",
      "source": [
        "### 2.2 Importación de Módulos y Paquetes\n"
      ],
      "metadata": {
        "id": "VqstPSeUyDj1"
      }
    },
    {
      "cell_type": "markdown",
      "source": [
        "Para importar un módulo o paquete, usamos la palabra clave import, y si solo queremos importar funciones específicas, usamos from ... import ...."
      ],
      "metadata": {
        "id": "dhofSr0ByHAP"
      }
    },
    {
      "cell_type": "markdown",
      "source": [
        "**Ejemplo de Importación de Módulos**"
      ],
      "metadata": {
        "id": "poVE0Vn4yJyG"
      }
    },
    {
      "cell_type": "code",
      "source": [
        "# Importar módulo entero\n",
        "import math\n",
        "print(math.sqrt(16))  # Calcular la raíz cuadrada de 16\n",
        "\n",
        "# Importar función específica\n",
        "from math import pow\n",
        "print(pow(2, 3))  # 2 elevado a la 3\n"
      ],
      "metadata": {
        "id": "pm9boeWMyMYO"
      },
      "execution_count": null,
      "outputs": []
    },
    {
      "cell_type": "markdown",
      "source": [
        "**Ejercicio 2.2**\n",
        "\n",
        "Crea un módulo llamado calculos.py que incluya una función para calcular el área de un círculo.\n",
        "Importa y usa esta función en un archivo llamado main.py."
      ],
      "metadata": {
        "id": "5YYcEhpMyPOv"
      }
    },
    {
      "cell_type": "code",
      "source": [],
      "metadata": {
        "id": "Skw5HTWAyX_C"
      },
      "execution_count": null,
      "outputs": []
    },
    {
      "cell_type": "markdown",
      "source": [
        "### 2.3 Creación y Uso de Paquetes\n"
      ],
      "metadata": {
        "id": "BWjgML5kyXmo"
      }
    },
    {
      "cell_type": "markdown",
      "source": [
        "Un paquete en Python es una carpeta que contiene uno o más módulos y un archivo __init__.py. El archivo __init__.py indica a Python que la carpeta debe ser tratada como un paquete."
      ],
      "metadata": {
        "id": "Z7ziZabzybru"
      }
    },
    {
      "cell_type": "markdown",
      "source": [
        "**Ejemplo de Estructura de Paquete**\n",
        "Supongamos que queremos crear un paquete llamado mi_paquete con dos módulos: saludos.py y operaciones.py."
      ],
      "metadata": {
        "id": "P_S-NSAhygoW"
      }
    },
    {
      "cell_type": "code",
      "source": [
        "mi_paquete/\n",
        "    __init__.py\n",
        "    saludos.py\n",
        "    operaciones.py"
      ],
      "metadata": {
        "id": "iA03kuUNyGkU"
      },
      "execution_count": null,
      "outputs": []
    },
    {
      "cell_type": "markdown",
      "source": [
        "Dentro de **mi_paquete**, crea los siguientes archivos:\n",
        "\n",
        "- __init__.py: Este archivo puede estar vacío, pero su presencia indica a Python que mi_paquete es un paquete. (Desde Python 3.3 ya no es obligatorio para que funcione, pero es una buena práctica incluirlo).\n",
        "\n",
        "- saludos.py: Contendrá la función saludo().\n",
        "\n",
        "- operaciones.py: Contendrá las funciones suma(), resta(), multiplicacion(), y division()."
      ],
      "metadata": {
        "id": "duZDkgDaynmy"
      }
    },
    {
      "cell_type": "code",
      "source": [
        "from mi_paquete import saludos, operaciones\n",
        "\n",
        "print(saludos.saludo(\"Juan\"))\n",
        "print(operaciones.contar_multiplos(5, 3))"
      ],
      "metadata": {
        "id": "oSpwqIUWnjjw",
        "outputId": "c8bcff37-afdc-4722-f952-24a8f47616a7",
        "colab": {
          "base_uri": "https://localhost:8080/"
        }
      },
      "execution_count": 9,
      "outputs": [
        {
          "output_type": "stream",
          "name": "stdout",
          "text": [
            "Hola, Juan!\n",
            "(2, [0, 3])\n"
          ]
        }
      ]
    },
    {
      "cell_type": "markdown",
      "source": [
        "En main.py, importamos el paquete:"
      ],
      "metadata": {
        "id": "quTst3yMyupY"
      }
    },
    {
      "cell_type": "code",
      "source": [
        "from mi_paquete import saludos, operaciones\n",
        "\n",
        "print(saludos.saludo(\"Ana\"))\n",
        "print(operaciones.suma(5, 3))\n"
      ],
      "metadata": {
        "id": "y8oYkqOHywv-"
      },
      "execution_count": null,
      "outputs": []
    },
    {
      "cell_type": "markdown",
      "source": [
        "**Ejercicio 2.3**\n",
        "\n",
        "- Crea un paquete llamado herramientas con dos módulos: texto.py y numeros.py.\n",
        "- texto.py debe incluir una función para contar palabras en un texto.\n",
        "- numeros.py debe incluir una función para encontrar el máximo en una lista de números.\n",
        "- Importa y usa estas funciones en un archivo test_paquete.py."
      ],
      "metadata": {
        "id": "4PjNh0DLy0au"
      }
    },
    {
      "cell_type": "code",
      "source": [],
      "metadata": {
        "id": "mrrcEeDxymqm"
      },
      "execution_count": null,
      "outputs": []
    },
    {
      "cell_type": "markdown",
      "source": [
        "## Conclusión del Laboratorio\n",
        "\n",
        "Este laboratorio proporciona una introducción práctica al manejo de archivos y la creación de módulos y paquetes en Python. Los ejercicios ofrecen práctica en la organización de código y en el uso de archivos, lo cual es esencial para la estructuración de proyectos en Python."
      ],
      "metadata": {
        "id": "S_Waz_tQy6m7"
      }
    },
    {
      "cell_type": "markdown",
      "source": [
        "---\n",
        "\n",
        "# Gracias por completar este laboratorio!\n",
        "\n",
        "---"
      ],
      "metadata": {
        "id": "wXJ_U_6ay_qH"
      }
    }
  ]
}