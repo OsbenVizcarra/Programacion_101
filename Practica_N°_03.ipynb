{
  "nbformat": 4,
  "nbformat_minor": 0,
  "metadata": {
    "colab": {
      "provenance": [],
      "authorship_tag": "ABX9TyObgrnIgOoPet16BSad32iU",
      "include_colab_link": true
    },
    "kernelspec": {
      "name": "python3",
      "display_name": "Python 3"
    },
    "language_info": {
      "name": "python"
    }
  },
  "cells": [
    {
      "cell_type": "markdown",
      "metadata": {
        "id": "view-in-github",
        "colab_type": "text"
      },
      "source": [
        "<a href=\"https://colab.research.google.com/github/OsbenVizcarra/Programacion_101/blob/main/Practica_N%C2%B0_03.ipynb\" target=\"_parent\"><img src=\"https://colab.research.google.com/assets/colab-badge.svg\" alt=\"Open In Colab\"/></a>"
      ]
    },
    {
      "cell_type": "markdown",
      "source": [
        "# **Practica N° 03**"
      ],
      "metadata": {
        "id": "EKwNVblCJ-hT"
      }
    },
    {
      "cell_type": "markdown",
      "source": [
        "**Pregunta 1:**\n",
        "\n",
        "*   Crea un array unidimensional que contenga los números primos entre 1 y 50.\n",
        "*   Convierte el array unidimensional anterior en una matriz de forma (n,2), donde n es el número adecuado de filas. Si es necesario, agrega ceros al final del array para completar la matriz.\n",
        "*   Calcula la suma de cada fila y crea un nuevo array que contenga estos valores."
      ],
      "metadata": {
        "id": "KsfGMcIoKBeU"
      }
    },
    {
      "cell_type": "code",
      "source": [
        "import numpy as np\n",
        "\n",
        "def es_primo(n):\n",
        "  if n <= 1:\n",
        "    return False\n",
        "  for i in range(2, int(n**0.5) + 1):\n",
        "    if n % i == 0:\n",
        "      return False\n",
        "  return True\n",
        "\n",
        "primos = [num for num in range(2, 51) if es_primo(num)]\n",
        "primos_array = np.array(primos)\n",
        "\n",
        "num_primos = len(primos_array)\n",
        "n = (num_primos + 1) // 2\n",
        "padding = n * 2 - num_primos\n",
        "\n",
        "padded_primos = np.pad(primos_array, (0, padding), 'constante')\n",
        "primos_matriz = padded_primos.reshape(n, 2)\n",
        "\n",
        "row_sums = np.sum(primos_matriz, axis=1)\n",
        "\n",
        "print(\"Array de números primos:\")\n",
        "print(primos_array)\n",
        "print(\"\\nMatriz de números primos:\")\n",
        "print(primos_matriz)\n",
        "print(\"\\nSuma de cada fila:\")\n",
        "row_sums"
      ],
      "metadata": {
        "colab": {
          "base_uri": "https://localhost:8080/"
        },
        "id": "rxemrmdZKgYS",
        "outputId": "eac5c950-ecd4-4ae2-8ab8-774d2588503f"
      },
      "execution_count": 10,
      "outputs": [
        {
          "output_type": "stream",
          "name": "stdout",
          "text": [
            "Array de números primos:\n",
            "[ 2  3  5  7 11 13 17 19 23 29 31 37 41 43 47]\n",
            "\n",
            "Matriz de números primos:\n",
            "[[ 2  3]\n",
            " [ 5  7]\n",
            " [11 13]\n",
            " [17 19]\n",
            " [23 29]\n",
            " [31 37]\n",
            " [41 43]\n",
            " [47  0]]\n",
            "\n",
            "Suma de cada fila:\n"
          ]
        },
        {
          "output_type": "execute_result",
          "data": {
            "text/plain": [
              "array([ 5, 12, 24, 36, 52, 68, 84, 47])"
            ]
          },
          "metadata": {},
          "execution_count": 10
        }
      ]
    },
    {
      "cell_type": "markdown",
      "source": [
        "**Pregunta 2:**\n",
        "\n",
        "*   Crea un array bidimensional de forma (4, 4) que contenga números enteros aleatorios entre 1 y 100.\n",
        "*   Cambia el tipo de datos del array a float64 y divide todos los elementos por 3.7.\n",
        "*   Calcula y muestra las siguientes propiedades del array resultante:\n",
        "\n",
        "Dimensiones (ndim),\n",
        "Forma (shape),\n",
        "Tamaño total (size),\n",
        "Tipo de datos (dtype)."
      ],
      "metadata": {
        "id": "9_dWaH6zL3ET"
      }
    },
    {
      "cell_type": "code",
      "source": [
        "import numpy as np\n",
        "\n",
        "array_2d = np.random.randint(1, 101, size=(4, 4))\n",
        "\n",
        "array_float = array_2d.astype(np.float64) / 3.7\n",
        "\n",
        "print(\"Dimensiones:\", array_float.ndim)\n",
        "print(\"Forma:\", array_float.shape)\n",
        "print(\"Tamaño total:\", array_float.size)\n",
        "print(\"Tipo de datos:\", array_float.dtype)"
      ],
      "metadata": {
        "colab": {
          "base_uri": "https://localhost:8080/"
        },
        "id": "NS1JxBRKMMdd",
        "outputId": "56fccc2b-decc-48f8-d5ec-ec6d86be602c"
      },
      "execution_count": 11,
      "outputs": [
        {
          "output_type": "stream",
          "name": "stdout",
          "text": [
            "Dimensiones: 2\n",
            "Forma: (4, 4)\n",
            "Tamaño total: 16\n",
            "Tipo de datos: float64\n"
          ]
        }
      ]
    },
    {
      "cell_type": "markdown",
      "source": [
        "**Pregunta 3:**\n",
        "\n",
        "*   Crea un array x que contenga 100 valores equiespaciados entre -10 y 10.\n",
        "*   Calcula el valor de la función f(x)=e**(-x**2) para cada elemento de x.\n",
        "*   Encuentra el valor máximo y mínimo de f(x) y las posiciones en el array donde ocurren.\n",
        "\n",
        "\n"
      ],
      "metadata": {
        "id": "dSfXkgYoMkE7"
      }
    },
    {
      "cell_type": "code",
      "source": [
        "import numpy as np\n",
        "\n",
        "x = np.linspace(-10, 10, 100)\n",
        "fx = np.exp(-x**2)\n",
        "\n",
        "valor_maximo = np.max(fx)\n",
        "posicion_maximo = np.argmax(fx)\n",
        "\n",
        "valor_minimo = np.min(fx)\n",
        "posicion_minimo = np.argmin(fx)\n",
        "\n",
        "print(\"Valor máximo de f(x):\", valor_maximo)\n",
        "print(\"Posición del valor máximo:\", posicion_maximo)\n",
        "print(\"Valor mínimo de f(x):\", valor_minimo)\n",
        "print(\"Posición del valor mínimo:\", posicion_minimo)"
      ],
      "metadata": {
        "colab": {
          "base_uri": "https://localhost:8080/"
        },
        "id": "P7grMWC-Mu1z",
        "outputId": "7ed5349c-2234-45ff-dcb2-8471a586a91e"
      },
      "execution_count": 13,
      "outputs": [
        {
          "output_type": "stream",
          "name": "stdout",
          "text": [
            "Valor máximo de f(x): 0.9898488339361309\n",
            "Posición del valor máximo: 49\n",
            "Valor mínimo de f(x): 3.720075976020836e-44\n",
            "Posición del valor mínimo: 0\n"
          ]
        }
      ]
    },
    {
      "cell_type": "markdown",
      "source": [
        "**Pregunta 4: Indexación y Slicing Avanzado.**\n",
        "\n",
        "Dado el siguiente array bidimensional:\n",
        "array = np.arange(1, 101). reshape(10, 10)\n",
        "\n",
        "*   Extrae un subarray que contenga los elementos en posiciones pares de filas y columnas (es decir, filas y columnas con índices 0, 2, 4, 6, 8).\n",
        "*   Reemplaza todos los elementos que son múltiplos de 3 por -1.\n",
        "*   Utiliza indexación avanzada para extraer todos los números primos del array original y crea un nuevo array con estos valores.\n"
      ],
      "metadata": {
        "id": "zYXuMR2DM-mK"
      }
    },
    {
      "cell_type": "code",
      "source": [
        "import numpy as np\n",
        "\n",
        "array = np.arange(1, 101).reshape(10, 10)\n",
        "\n",
        "subarray = array[::2, ::2]\n",
        "\n",
        "array[array % 3 == 0] = -1\n",
        "\n",
        "def es_primo(n):\n",
        "    if n <= 1:\n",
        "        return False\n",
        "    for i in range(2, int(n**0.5) + 1):\n",
        "        if n % i == 0:\n",
        "            return False\n",
        "    return True\n",
        "\n",
        "primos_indices = np.array([i for i in range(1,101) if es_primo(i)])\n",
        "primos_array = array[np.where(np.isin(array, primos_indices))]\n",
        "\n",
        "print(\"Subarray con posiciones pares:\")\n",
        "print(subarray)\n",
        "print(\"\\nArray con múltiplos de 3 reemplazados por -1:\")\n",
        "print(array)\n",
        "print(\"\\nArray de números primos:\")\n",
        "primos_array"
      ],
      "metadata": {
        "colab": {
          "base_uri": "https://localhost:8080/"
        },
        "id": "scvIrTJ_NaTS",
        "outputId": "30baa9d9-3577-405f-879c-03330c1ffdfc"
      },
      "execution_count": 14,
      "outputs": [
        {
          "output_type": "stream",
          "name": "stdout",
          "text": [
            "Subarray con posiciones pares:\n",
            "[[ 1 -1  5  7 -1]\n",
            " [-1 23 25 -1 29]\n",
            " [41 43 -1 47 49]\n",
            " [61 -1 65 67 -1]\n",
            " [-1 83 85 -1 89]]\n",
            "\n",
            "Array con múltiplos de 3 reemplazados por -1:\n",
            "[[  1   2  -1   4   5  -1   7   8  -1  10]\n",
            " [ 11  -1  13  14  -1  16  17  -1  19  20]\n",
            " [ -1  22  23  -1  25  26  -1  28  29  -1]\n",
            " [ 31  32  -1  34  35  -1  37  38  -1  40]\n",
            " [ 41  -1  43  44  -1  46  47  -1  49  50]\n",
            " [ -1  52  53  -1  55  56  -1  58  59  -1]\n",
            " [ 61  62  -1  64  65  -1  67  68  -1  70]\n",
            " [ 71  -1  73  74  -1  76  77  -1  79  80]\n",
            " [ -1  82  83  -1  85  86  -1  88  89  -1]\n",
            " [ 91  92  -1  94  95  -1  97  98  -1 100]]\n",
            "\n",
            "Array de números primos:\n"
          ]
        },
        {
          "output_type": "execute_result",
          "data": {
            "text/plain": [
              "array([ 2,  5,  7, 11, 13, 17, 19, 23, 29, 31, 37, 41, 43, 47, 53, 59, 61,\n",
              "       67, 71, 73, 79, 83, 89, 97])"
            ]
          },
          "metadata": {},
          "execution_count": 14
        }
      ]
    },
    {
      "cell_type": "markdown",
      "source": [
        "**Pregunta 5:**\n",
        "\n",
        "*   Crea tres arrays unidimensionales de longitud 5 con números aleatorios entre 0 y 1.\n",
        "*   Combina estos arrays para formar una matriz de forma (5, 3).\n",
        "*   Agrega una columna de unos al principio de la matriz resultante, obteniendo una matriz de forma (5, 4).\n",
        "*   Reordena las columnas de la matriz para que la columna de unos esté al final.\n",
        "\n"
      ],
      "metadata": {
        "id": "TBqHs7U1PGn6"
      }
    },
    {
      "cell_type": "code",
      "source": [
        "array1 = np.random.rand(5)\n",
        "array2 = np.random.rand(5)\n",
        "array3 = np.random.rand(5)\n",
        "\n",
        "matriz = np.column_stack((array1, array2, array3))\n",
        "\n",
        "unos = np.ones((5, 1))\n",
        "matriz_con_unos = np.concatenate((unos, matriz), axis=1)\n",
        "\n",
        "matriz_reordenada = np.concatenate((matriz_con_unos[:, 1:], matriz_con_unos[:, 0:1]), axis=1)\n",
        "\n",
        "print(\"1er array:\", array1)\n",
        "print(\"2do array:\", array2)\n",
        "print(\"3er array:\", array3)\n",
        "print(\"\\nMatriz original (5x3):\\n\", matriz)\n",
        "print(\"\\nMatriz con columna de unos al principio (5x4):\\n\", matriz_con_unos)\n",
        "print(\"\\nMatriz con columna de unos al final (5x4):\\n\", matriz_reordenada)"
      ],
      "metadata": {
        "colab": {
          "base_uri": "https://localhost:8080/"
        },
        "id": "eI0hYe2DPRi5",
        "outputId": "e193fd33-3768-4802-fb9d-eec91831d0b7"
      },
      "execution_count": 25,
      "outputs": [
        {
          "output_type": "stream",
          "name": "stdout",
          "text": [
            "1er array: [0.27916956 0.14649582 0.41374976 0.23003958 0.87673847]\n",
            "2do array: [0.57002033 0.7571999  0.22553129 0.15836325 0.7210654 ]\n",
            "3er array: [0.73564875 0.09503752 0.84310404 0.33148702 0.07526237]\n",
            "\n",
            "Matriz original (5x3):\n",
            " [[0.27916956 0.57002033 0.73564875]\n",
            " [0.14649582 0.7571999  0.09503752]\n",
            " [0.41374976 0.22553129 0.84310404]\n",
            " [0.23003958 0.15836325 0.33148702]\n",
            " [0.87673847 0.7210654  0.07526237]]\n",
            "\n",
            "Matriz con columna de unos al principio (5x4):\n",
            " [[1.         0.27916956 0.57002033 0.73564875]\n",
            " [1.         0.14649582 0.7571999  0.09503752]\n",
            " [1.         0.41374976 0.22553129 0.84310404]\n",
            " [1.         0.23003958 0.15836325 0.33148702]\n",
            " [1.         0.87673847 0.7210654  0.07526237]]\n",
            "\n",
            "Matriz con columna de unos al final (5x4):\n",
            " [[0.27916956 0.57002033 0.73564875 1.        ]\n",
            " [0.14649582 0.7571999  0.09503752 1.        ]\n",
            " [0.41374976 0.22553129 0.84310404 1.        ]\n",
            " [0.23003958 0.15836325 0.33148702 1.        ]\n",
            " [0.87673847 0.7210654  0.07526237 1.        ]]\n"
          ]
        }
      ]
    },
    {
      "cell_type": "markdown",
      "source": [
        "**Pregunta 6:**\n",
        "\n",
        "*   Crea una matriz simétrica positiva definida de tamaño 3x3.\n",
        "*   Calcula sus valores y vectores propios (eigenvalores y eigenvectores).\n",
        "*   Verifica que la multiplicación de la matriz original por un vector propio es igual al producto del eigenvalor correspondiente por el vector propio."
      ],
      "metadata": {
        "id": "bAuz975QQIe9"
      }
    },
    {
      "cell_type": "code",
      "source": [
        "matriz = np.array([[4, 1, 1],\n",
        "                   [1, 4, 1],\n",
        "                   [1, 1, 4]])\n",
        "\n",
        "valores_propios, vectores_propios = np.linalg.eig(matriz)\n",
        "\n",
        "for i in range(3):\n",
        "  vector_propio = vectores_propios[:, i]\n",
        "  valor_propio = valores_propios[i]\n",
        "\n",
        "  producto_matriz_vector = np.dot(matriz, vector_propio)\n",
        "  producto_valor_vector = valor_propio * vector_propio\n",
        "\n",
        "  print(f\"Vector propio {i+1}: {vector_propio}\")\n",
        "  print(f\"Valor propio {i+1}: {valor_propio}\")\n",
        "  print(f\"Matriz * Vector Propio: {producto_matriz_vector}\")\n",
        "  print(f\"Valor Propio * Vector Propio: {producto_valor_vector}\")\n",
        "  print(\"-\" * 20)"
      ],
      "metadata": {
        "colab": {
          "base_uri": "https://localhost:8080/"
        },
        "id": "zENFLv2QQTgF",
        "outputId": "f1438fc2-c8ab-432b-c5da-9969e0449601"
      },
      "execution_count": 39,
      "outputs": [
        {
          "output_type": "stream",
          "name": "stdout",
          "text": [
            "Vector propio 1: [-0.57735027 -0.57735027 -0.57735027]\n",
            "Valor propio 1: 5.999999999999998\n",
            "Matriz * Vector Propio: [-3.46410162 -3.46410162 -3.46410162]\n",
            "Valor Propio * Vector Propio: [-3.46410162 -3.46410162 -3.46410162]\n",
            "--------------------\n",
            "Vector propio 2: [-0.81649658  0.40824829  0.40824829]\n",
            "Valor propio 2: 2.9999999999999982\n",
            "Matriz * Vector Propio: [-2.44948974  1.22474487  1.22474487]\n",
            "Valor Propio * Vector Propio: [-2.44948974  1.22474487  1.22474487]\n",
            "--------------------\n",
            "Vector propio 3: [-0.15430335 -0.6172134   0.77151675]\n",
            "Valor propio 3: 2.9999999999999996\n",
            "Matriz * Vector Propio: [-0.46291005 -1.8516402   2.31455025]\n",
            "Valor Propio * Vector Propio: [-0.46291005 -1.8516402   2.31455025]\n",
            "--------------------\n"
          ]
        }
      ]
    },
    {
      "cell_type": "markdown",
      "source": [
        "**Pregunta 7:**\n",
        "\n",
        "*   Construye un sistema de ecuaciones lineales con tres ecuaciones y tres incógnitas donde la matriz de coeficientes es singular (no invertible).\n",
        "*   Intenta resolver el sistema utilizando np.linalg.solve() y explica el resultado obtenido."
      ],
      "metadata": {
        "id": "0RSqtMa6QyV1"
      }
    },
    {
      "cell_type": "code",
      "source": [
        "import numpy as np\n",
        "\n",
        "A = np.array([[1, 2, 3],\n",
        "              [2, 4, 6],\n",
        "              [3, 6, 9]])\n",
        "\n",
        "b = np.array([6, 12, 18])\n",
        "\n",
        "try:\n",
        "    x = np.linalg.solve(A, b)\n",
        "    print(\"Solución del sistema:\")\n",
        "    print(x)\n",
        "except np.linalg.LinAlgError as e:\n",
        "    print(f\"Error: {e}\")\n",
        "    print(\"\\nLa matriz de coeficientes es singular, por lo que no tiene inversa única y el sistema no tiene solución única o no tiene solución.\")"
      ],
      "metadata": {
        "colab": {
          "base_uri": "https://localhost:8080/"
        },
        "id": "W3rb7liTQ7MQ",
        "outputId": "61876d54-df40-4399-cd1a-b61bece4cdf7"
      },
      "execution_count": 34,
      "outputs": [
        {
          "output_type": "stream",
          "name": "stdout",
          "text": [
            "Error: Singular matrix\n",
            "\n",
            "La matriz de coeficientes es singular, por lo que no tiene inversa única y el sistema no tiene solución única o no tiene solución.\n"
          ]
        }
      ]
    },
    {
      "cell_type": "markdown",
      "source": [
        "**Pregunta 8:**\n",
        "\n",
        "*   Crea un array de forma (4, 4, 4) con números enteros aleatorios entre 0 y 100.\n",
        "*   Calcula la suma a lo largo del eje 0, obteniendo un array de forma (4, 4).\n",
        "*   Calcula el promedio a lo largo del eje 1, obteniendo un array de forma (4, 4).\n",
        "*   Reestructura el array original en una nueva forma de (8, 8) sin perder datos."
      ],
      "metadata": {
        "id": "RbpcjGimSMkr"
      }
    },
    {
      "cell_type": "code",
      "source": [
        "array_3d = np.random.randint(0, 101, size=(4, 4, 4))\n",
        "\n",
        "suma_eje0 = np.sum(array_3d, axis=0)\n",
        "\n",
        "promedio_eje1 = np.mean(array_3d, axis=1)\n",
        "\n",
        "array_reestructurado = array_3d.reshape(8, 8)\n",
        "\n",
        "print(\"Array original (4, 4, 4):\\n\", array_3d)\n",
        "print(\"\\nSuma a lo largo del eje 0 (4, 4):\\n\", suma_eje0)\n",
        "print(\"\\nPromedio a lo largo del eje 1 (4, 4):\\n\", promedio_eje1)\n",
        "print(\"\\nArray reestructurado (8, 8):\\n\", array_reestructurado)"
      ],
      "metadata": {
        "colab": {
          "base_uri": "https://localhost:8080/"
        },
        "id": "6BR8uJVGSZQA",
        "outputId": "683d5252-ee93-4f54-bded-97f544f82f4f"
      },
      "execution_count": 40,
      "outputs": [
        {
          "output_type": "stream",
          "name": "stdout",
          "text": [
            "Array original (4, 4, 4):\n",
            " [[[29 68 91 83]\n",
            "  [46 67 94 38]\n",
            "  [48 60  0  5]\n",
            "  [91 72  7 40]]\n",
            "\n",
            " [[69 79 18  8]\n",
            "  [78 48 69 66]\n",
            "  [15 41 94 37]\n",
            "  [ 2 34 50 35]]\n",
            "\n",
            " [[95 74 66 13]\n",
            "  [67  6 49 19]\n",
            "  [40 61 98 24]\n",
            "  [78 72 57 82]]\n",
            "\n",
            " [[45 89 39 64]\n",
            "  [35 93 69 66]\n",
            "  [10 52 15 87]\n",
            "  [21 63 10 48]]]\n",
            "\n",
            "Suma a lo largo del eje 0 (4, 4):\n",
            " [[238 310 214 168]\n",
            " [226 214 281 189]\n",
            " [113 214 207 153]\n",
            " [192 241 124 205]]\n",
            "\n",
            "Promedio a lo largo del eje 1 (4, 4):\n",
            " [[53.5  66.75 48.   41.5 ]\n",
            " [41.   50.5  57.75 36.5 ]\n",
            " [70.   53.25 67.5  34.5 ]\n",
            " [27.75 74.25 33.25 66.25]]\n",
            "\n",
            "Array reestructurado (8, 8):\n",
            " [[29 68 91 83 46 67 94 38]\n",
            " [48 60  0  5 91 72  7 40]\n",
            " [69 79 18  8 78 48 69 66]\n",
            " [15 41 94 37  2 34 50 35]\n",
            " [95 74 66 13 67  6 49 19]\n",
            " [40 61 98 24 78 72 57 82]\n",
            " [45 89 39 64 35 93 69 66]\n",
            " [10 52 15 87 21 63 10 48]]\n"
          ]
        }
      ]
    },
    {
      "cell_type": "markdown",
      "source": [
        "**Pregunta 9:**\n",
        "\n",
        "Se define una secuencia de números donde cada elemento es el factorial del índice correspondiente. Formalmente:\n",
        "\n",
        "a n = n! para n = 1,2,...,10\n",
        "\n",
        "*   Usando NumPy, crea un array que contenga los primeros 10 elementos de esta secuencia sin utilizar bucles explícitos.\n",
        "*   Calcula la suma de todos los elementos del array creado.\n",
        "*   Dado que los factoriales pueden ser números muy grandes, cambia el tipo de datos del array a object para manejar enteros arbitrariamente grandes y recalcula la suma."
      ],
      "metadata": {
        "id": "6M8cIXvES2Cd"
      }
    },
    {
      "cell_type": "code",
      "source": [
        "import numpy as np\n",
        "import math\n",
        "\n",
        "def factorial(n):\n",
        "    return math.factorial(n)\n",
        "\n",
        "factoriales = np.array([factorial(i) for i in range(11)])\n",
        "\n",
        "suma_factoriales = np.sum(factoriales)\n",
        "\n",
        "factoriales_obj = np.array([factorial(i) for i in range(11)], dtype=object)\n",
        "suma_factoriales_obj = np.sum(factoriales_obj)\n",
        "\n",
        "print(\"Suma de factoriales:\", suma_factoriales)\n",
        "print(\"Secuencia de factoriales (object type):\", factoriales_obj)"
      ],
      "metadata": {
        "colab": {
          "base_uri": "https://localhost:8080/"
        },
        "id": "z8ZoXCV6TFla",
        "outputId": "683ac103-28f3-4467-c7e6-12d6786f36a7"
      },
      "execution_count": 59,
      "outputs": [
        {
          "output_type": "stream",
          "name": "stdout",
          "text": [
            "Suma de factoriales: 4037914\n",
            "Secuencia de factoriales (object type): [1 1 2 6 24 120 720 5040 40320 362880 3628800]\n"
          ]
        }
      ]
    },
    {
      "cell_type": "markdown",
      "source": [
        "**Pregunta 10:**\n",
        "\n",
        "*   Simula un conjunto de datos que represente las alturas (en cm) de 500 personas, siguiendo una distribución normal con media 170 y desviación estándar 10.\n",
        "*   Encuentra cuántas personas miden más de 180 cm y menos de 160 cm.\n",
        "*   Normaliza los datos de altura para que tengan media 0 y desviación estándar 1.\n",
        "\n"
      ],
      "metadata": {
        "id": "7dlq8SP4Uj_Q"
      }
    },
    {
      "cell_type": "code",
      "source": [
        "import numpy as np\n",
        "\n",
        "alturas = np.random.normal(170, 10, 500)\n",
        "\n",
        "mas_180 = np.sum(alturas > 180)\n",
        "menos_160 = np.sum(alturas < 160)\n",
        "\n",
        "alturas_normalizadas = (alturas - np.mean(alturas)) / np.std(alturas)\n",
        "\n",
        "print(\"Número de personas con altura superior a 180 cm:\", mas_180)\n",
        "print(\"Número de personas con altura inferior a 160 cm:\", menos_160)\n",
        "print(\"\\nPrimeros 10 datos de alturas normalizadas:\", alturas_normalizadas[:10])"
      ],
      "metadata": {
        "colab": {
          "base_uri": "https://localhost:8080/"
        },
        "id": "1oxRUKEbUuko",
        "outputId": "6fd6b00f-77ce-4d71-9f75-9182ac1b2fc8"
      },
      "execution_count": 61,
      "outputs": [
        {
          "output_type": "stream",
          "name": "stdout",
          "text": [
            "Número de personas con altura superior a 180 cm: 74\n",
            "Número de personas con altura inferior a 160 cm: 80\n",
            "\n",
            "Primeros 10 datos de alturas normalizadas: [-1.37367429  1.69241328 -0.4932528   2.09986187  0.29321437 -0.06464788\n",
            "  0.70640838 -1.45717401 -1.01711083  1.5803254 ]\n"
          ]
        }
      ]
    }
  ]
}