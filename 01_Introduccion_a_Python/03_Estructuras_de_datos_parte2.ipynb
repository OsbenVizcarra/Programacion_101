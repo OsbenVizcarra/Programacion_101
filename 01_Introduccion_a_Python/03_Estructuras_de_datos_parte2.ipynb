{
  "nbformat": 4,
  "nbformat_minor": 0,
  "metadata": {
    "colab": {
      "provenance": [],
      "include_colab_link": true
    },
    "kernelspec": {
      "name": "python3",
      "display_name": "Python 3"
    },
    "language_info": {
      "name": "python"
    }
  },
  "cells": [
    {
      "cell_type": "markdown",
      "metadata": {
        "id": "view-in-github",
        "colab_type": "text"
      },
      "source": [
        "<a href=\"https://colab.research.google.com/github/OsbenVizcarra/Programacion_101/blob/main/01_Introduccion_a_Python/03_Estructuras_de_datos_parte2.ipynb\" target=\"_parent\"><img src=\"https://colab.research.google.com/assets/colab-badge.svg\" alt=\"Open In Colab\"/></a>"
      ]
    },
    {
      "cell_type": "markdown",
      "source": [
        "<img src=\"https://www.ctic.uni.edu.pe/wp-content/uploads/2022/04/588px-x-348px-web-1.png\" alt=\"HTML5 Icon\" width=\"900\" height=\"350\" >\n"
      ],
      "metadata": {
        "id": "0xv6Piu7tRkP"
      }
    },
    {
      "cell_type": "markdown",
      "source": [
        "<h1 align=center><font size = 5>ESTRUCTURAS DE DATOS - PARTE 2\n",
        "</font></h1>\n",
        "\n",
        "---\n"
      ],
      "metadata": {
        "id": "iJvpwSTptUZI"
      }
    },
    {
      "cell_type": "markdown",
      "source": [
        "**Tabla de Contenidos**\n",
        "\n",
        "- Diccionarios\n",
        "- Sets\n",
        "- Matrices\n",
        "\n",
        "---"
      ],
      "metadata": {
        "id": "gM88wvb0uEt7"
      }
    },
    {
      "cell_type": "markdown",
      "source": [
        "## 1. Diccionarios\n",
        "\n",
        "**Concepto:**\n",
        "\n",
        "Un diccionario es una estructura de datos que almacena pares clave-valor. Las claves deben ser únicas y se utilizan para acceder a los valores asociados."
      ],
      "metadata": {
        "id": "P3deKEL-tbDJ"
      }
    },
    {
      "cell_type": "markdown",
      "source": [
        "### Ejemplo 1.1: Creación de Diccionarios y Acceso a Elementos\n"
      ],
      "metadata": {
        "id": "hlZnLeo_uPwN"
      }
    },
    {
      "cell_type": "code",
      "source": [
        "# Crear un diccionario\n",
        "persona = {'nombre': 'Ana', 'edad': 30, 'ciudad': 'Lima'}\n",
        "print(persona)"
      ],
      "metadata": {
        "id": "P-TTXZxuuRe7",
        "outputId": "0848a913-43f9-4127-9ec0-ff716a36a331",
        "colab": {
          "base_uri": "https://localhost:8080/"
        }
      },
      "execution_count": 1,
      "outputs": [
        {
          "output_type": "stream",
          "name": "stdout",
          "text": [
            "{'nombre': 'Ana', 'edad': 30, 'ciudad': 'Lima'}\n"
          ]
        }
      ]
    },
    {
      "cell_type": "code",
      "source": [
        "# Acceder a un valor\n",
        "print(\"Nombre:\", persona['nombre'])\n",
        "print(\"Ciudad:\", persona.get('ciudad'))\n"
      ],
      "metadata": {
        "id": "tPRrAukRuS1S",
        "outputId": "5556a30c-1dac-4fe5-88ce-b4298816b29a",
        "colab": {
          "base_uri": "https://localhost:8080/"
        }
      },
      "execution_count": 2,
      "outputs": [
        {
          "output_type": "stream",
          "name": "stdout",
          "text": [
            "Nombre: Ana\n",
            "Ciudad: Lima\n"
          ]
        }
      ]
    },
    {
      "cell_type": "code",
      "source": [
        "\n",
        "# Añadir un nuevo par clave-valor\n",
        "persona['profesion'] = 'Ingeniera'\n",
        "print(persona)\n",
        "\n"
      ],
      "metadata": {
        "id": "Ineeezk6uUjd",
        "outputId": "550920e8-f849-4429-8b7f-41a8c1f58bfb",
        "colab": {
          "base_uri": "https://localhost:8080/"
        }
      },
      "execution_count": 3,
      "outputs": [
        {
          "output_type": "stream",
          "name": "stdout",
          "text": [
            "{'nombre': 'Ana', 'edad': 30, 'ciudad': 'Lima', 'profesion': 'Ingeniera'}\n"
          ]
        }
      ]
    },
    {
      "cell_type": "code",
      "source": [
        "# Eliminar un par clave-valor\n",
        "del persona['ciudad']\n",
        "print(persona)"
      ],
      "metadata": {
        "id": "tuA4FSZNuVv1",
        "outputId": "b64419ff-5ec3-4eaa-b181-47eec1cb8f97",
        "colab": {
          "base_uri": "https://localhost:8080/"
        }
      },
      "execution_count": 4,
      "outputs": [
        {
          "output_type": "stream",
          "name": "stdout",
          "text": [
            "{'nombre': 'Ana', 'edad': 30, 'profesion': 'Ingeniera'}\n"
          ]
        }
      ]
    },
    {
      "cell_type": "markdown",
      "source": [
        "### Ejemplo 1.2: Métodos Útiles de Diccionarios\n"
      ],
      "metadata": {
        "id": "FiQWLZxXuY6G"
      }
    },
    {
      "cell_type": "code",
      "source": [
        "# Obtener todas las claves\n",
        "print(persona.keys())\n"
      ],
      "metadata": {
        "id": "0BNmkeBXua1R",
        "outputId": "fd016fab-5d81-4060-c1c3-34baa71d027f",
        "colab": {
          "base_uri": "https://localhost:8080/"
        }
      },
      "execution_count": 5,
      "outputs": [
        {
          "output_type": "stream",
          "name": "stdout",
          "text": [
            "dict_keys(['nombre', 'edad', 'profesion'])\n"
          ]
        }
      ]
    },
    {
      "cell_type": "code",
      "source": [
        "# Obtener todos los valores\n",
        "print(persona.values())\n"
      ],
      "metadata": {
        "id": "67-6NfYiubwM",
        "outputId": "27d98acd-38ff-48fc-abfa-16ea2bf88dda",
        "colab": {
          "base_uri": "https://localhost:8080/"
        }
      },
      "execution_count": 6,
      "outputs": [
        {
          "output_type": "stream",
          "name": "stdout",
          "text": [
            "dict_values(['Ana', 30, 'Ingeniera'])\n"
          ]
        }
      ]
    },
    {
      "cell_type": "code",
      "source": [
        "# Comprobar si una clave existe en el diccionario\n",
        "if 'edad' in persona:\n",
        "    print(\"La clave 'edad' está en el diccionario.\")\n"
      ],
      "metadata": {
        "id": "UPfEsSI_ucnd",
        "outputId": "8827cbb3-53e5-4644-dd76-5c9058edc9fb",
        "colab": {
          "base_uri": "https://localhost:8080/"
        }
      },
      "execution_count": 7,
      "outputs": [
        {
          "output_type": "stream",
          "name": "stdout",
          "text": [
            "La clave 'edad' está en el diccionario.\n"
          ]
        }
      ]
    },
    {
      "cell_type": "markdown",
      "source": [
        "### Ejercicio 1: Trabajando con Diccionarios\n",
        "\n",
        "- Crea un diccionario que contenga información sobre un automóvil (marca, modelo, año, color).\n",
        "- Accede a cada valor usando su clave.\n",
        "- Añade una clave para el precio del automóvil.\n",
        "- Elimina la clave del color del automóvil y muestra el diccionario actualizado.\n",
        "- Usa keys() y values() para imprimir las claves y valores del diccionario.\n",
        "\n"
      ],
      "metadata": {
        "id": "oECCq-N5uguf"
      }
    },
    {
      "cell_type": "code",
      "source": [
        "\n",
        "# Crea un diccionario que contenga información sobre un automóvil (marca, modelo, año, color).\n",
        "automovil = {'marca': 'MG','modelo': 'HS','año': 2024,'color': 'Gris'}\n"
      ],
      "metadata": {
        "id": "x2uN2fYnume5"
      },
      "execution_count": 8,
      "outputs": []
    },
    {
      "cell_type": "code",
      "source": [
        "\n",
        "# Accede a cada valor usando su clave\n",
        "print(\"Marca:\", automovil['marca'])\n",
        "print(\"Modelo:\", automovil['modelo'])\n",
        "print(\"Año:\", automovil['año'])\n",
        "print(\"Color:\", automovil['color'])\n"
      ],
      "metadata": {
        "id": "Y7QXSV1brZBp",
        "outputId": "a37db078-0dd5-4017-f6e7-a8db74b25096",
        "colab": {
          "base_uri": "https://localhost:8080/"
        }
      },
      "execution_count": 9,
      "outputs": [
        {
          "output_type": "stream",
          "name": "stdout",
          "text": [
            "Marca: MG\n",
            "Modelo: HS\n",
            "Año: 2024\n",
            "Color: Gris\n"
          ]
        }
      ]
    },
    {
      "cell_type": "code",
      "source": [
        "\n",
        "# Añade una clave para el precio del automóvil\n",
        "automovil['precio'] = 25000\n",
        "print(automovil)\n"
      ],
      "metadata": {
        "id": "MJyMZOhXrdMp",
        "outputId": "969f0d28-4191-4fb8-9389-a84b5a6483d3",
        "colab": {
          "base_uri": "https://localhost:8080/"
        }
      },
      "execution_count": 11,
      "outputs": [
        {
          "output_type": "stream",
          "name": "stdout",
          "text": [
            "{'marca': 'MG', 'modelo': 'HS', 'año': 2024, 'color': 'Gris', 'precio': 25000}\n"
          ]
        }
      ]
    },
    {
      "cell_type": "code",
      "source": [
        "\n",
        "# Elimina la clave del color del automóvil y muestra el diccionario actualizado\n",
        "del automovil['color']\n",
        "print(\"Diccionario actualizado:\", automovil)\n"
      ],
      "metadata": {
        "id": "HFwqIlM4rfKY",
        "outputId": "43148b88-9e40-4335-c75f-6b9f86630b50",
        "colab": {
          "base_uri": "https://localhost:8080/"
        }
      },
      "execution_count": 12,
      "outputs": [
        {
          "output_type": "stream",
          "name": "stdout",
          "text": [
            "Diccionario actualizado: {'marca': 'MG', 'modelo': 'HS', 'año': 2024, 'precio': 25000}\n"
          ]
        }
      ]
    },
    {
      "cell_type": "code",
      "source": [
        "\n",
        "# Usa keys() y values() para imprimir las claves y valores del diccionario\n",
        "print(\"Claves:\", automovil.keys())\n",
        "print(\"Valores:\", automovil.values())\n"
      ],
      "metadata": {
        "id": "BVbsi1_3rgTQ",
        "outputId": "27866262-9a25-469f-e397-354c5b5f38f5",
        "colab": {
          "base_uri": "https://localhost:8080/"
        }
      },
      "execution_count": 13,
      "outputs": [
        {
          "output_type": "stream",
          "name": "stdout",
          "text": [
            "Claves: dict_keys(['marca', 'modelo', 'año', 'precio'])\n",
            "Valores: dict_values(['MG', 'HS', 2024, 25000])\n"
          ]
        }
      ]
    },
    {
      "cell_type": "markdown",
      "source": [
        "## 2. Sets\n",
        "\n",
        "Los sets son colecciones de elementos únicos y desordenados. Son útiles para eliminar duplicados o realizar operaciones matemáticas como intersección y unión."
      ],
      "metadata": {
        "id": "-omdmjTguoW-"
      }
    },
    {
      "cell_type": "markdown",
      "source": [
        "### Ejemplo 2.1: Creación y Modificación de Sets"
      ],
      "metadata": {
        "id": "5GC8_tPvuu3r"
      }
    },
    {
      "cell_type": "code",
      "source": [
        "\n",
        "# Crear un set\n",
        "numeros = {1, 2, 3, 4, 5}\n",
        "print(numeros)\n"
      ],
      "metadata": {
        "id": "D2ClA0CAutom",
        "outputId": "7d5b8473-9631-4dda-a276-2c4652afb828",
        "colab": {
          "base_uri": "https://localhost:8080/"
        }
      },
      "execution_count": 14,
      "outputs": [
        {
          "output_type": "stream",
          "name": "stdout",
          "text": [
            "{1, 2, 3, 4, 5}\n"
          ]
        }
      ]
    },
    {
      "cell_type": "code",
      "source": [
        "\n",
        "# Añadir elementos\n",
        "numeros.add(6)\n",
        "print(numeros)\n"
      ],
      "metadata": {
        "id": "deMM35okuyPM",
        "outputId": "afd01410-8e26-4246-c7c1-15768e8907a9",
        "colab": {
          "base_uri": "https://localhost:8080/"
        }
      },
      "execution_count": 15,
      "outputs": [
        {
          "output_type": "stream",
          "name": "stdout",
          "text": [
            "{1, 2, 3, 4, 5, 6}\n"
          ]
        }
      ]
    },
    {
      "cell_type": "code",
      "source": [
        "\n",
        "# Eliminar un elemento\n",
        "numeros.remove(3)\n",
        "print(numeros)\n"
      ],
      "metadata": {
        "id": "VQjmgrWyuzAr",
        "outputId": "31f5fc4d-9e1c-4df4-8825-741afd50c649",
        "colab": {
          "base_uri": "https://localhost:8080/"
        }
      },
      "execution_count": 16,
      "outputs": [
        {
          "output_type": "stream",
          "name": "stdout",
          "text": [
            "{1, 2, 4, 5, 6}\n"
          ]
        }
      ]
    },
    {
      "cell_type": "markdown",
      "source": [
        "### Ejemplo 2.2: Operaciones de Conjuntos\n"
      ],
      "metadata": {
        "id": "8I9pqkBWu3qE"
      }
    },
    {
      "cell_type": "code",
      "source": [
        "\n",
        "# Crear otro set\n",
        "otro_set = {4, 5, 6, 7}\n"
      ],
      "metadata": {
        "id": "169QsOxuvAbe"
      },
      "execution_count": 18,
      "outputs": []
    },
    {
      "cell_type": "code",
      "source": [
        "\n",
        "# Unión de sets (todos los elementos)\n",
        "union = numeros.union(otro_set)\n",
        "print(\"Unión:\", union)\n"
      ],
      "metadata": {
        "id": "1hvqQ2F_vBtY",
        "outputId": "3cc891db-b0c1-412f-9517-4d055e367618",
        "colab": {
          "base_uri": "https://localhost:8080/"
        }
      },
      "execution_count": 19,
      "outputs": [
        {
          "output_type": "stream",
          "name": "stdout",
          "text": [
            "Unión: {1, 2, 4, 5, 6, 7}\n"
          ]
        }
      ]
    },
    {
      "cell_type": "code",
      "source": [
        "\n",
        "# Intersección de sets (elementos comunes)\n",
        "interseccion = numeros.intersection(otro_set)\n",
        "print(\"Intersección:\", interseccion)\n"
      ],
      "metadata": {
        "id": "0AU3PFc1vCh2",
        "outputId": "10289f4c-ba28-4d5d-df4b-90e89e00284b",
        "colab": {
          "base_uri": "https://localhost:8080/"
        }
      },
      "execution_count": 20,
      "outputs": [
        {
          "output_type": "stream",
          "name": "stdout",
          "text": [
            "Intersección: {4, 5, 6}\n"
          ]
        }
      ]
    },
    {
      "cell_type": "markdown",
      "source": [
        "### Ejercicio 2: Operaciones con Sets\n",
        "\n",
        "- Crea dos sets de números: uno con números del 1 al 10 y otro con números del 5 al 15.\n",
        "- Encuentra la intersección y unión de ambos sets.\n",
        "- Elimina un número del primer set.\n",
        "- Usa un set para almacenar los nombres de tus amigos. Asegúrate de que no haya duplicados."
      ],
      "metadata": {
        "id": "y15kQNAQvFx_"
      }
    },
    {
      "cell_type": "code",
      "source": [
        "\n",
        "# Crea dos sets de números: uno con números del 1 al 10 y otro con números del 5 al 15.\n",
        "set1 = set(range(1, 11))\n",
        "set2 = set(range(5, 16))\n"
      ],
      "metadata": {
        "id": "CqudC_sBvJEQ"
      },
      "execution_count": 21,
      "outputs": []
    },
    {
      "cell_type": "code",
      "source": [
        "\n",
        "# Encuentra la intersección y unión de ambos sets.\n",
        "interseccion = set1.intersection(set2)\n",
        "union = set1.union(set2)\n",
        "print(\"Intersección:\", interseccion)\n",
        "print(\"Unión:\", union)\n"
      ],
      "metadata": {
        "id": "pYBwX42AtPFd",
        "outputId": "b2d3234f-575e-4cf6-922f-c0eb84b8b2f0",
        "colab": {
          "base_uri": "https://localhost:8080/"
        }
      },
      "execution_count": 22,
      "outputs": [
        {
          "output_type": "stream",
          "name": "stdout",
          "text": [
            "Intersección: {5, 6, 7, 8, 9, 10}\n",
            "Unión: {1, 2, 3, 4, 5, 6, 7, 8, 9, 10, 11, 12, 13, 14, 15}\n"
          ]
        }
      ]
    },
    {
      "cell_type": "code",
      "source": [
        "\n",
        "# Elimina un número del primer set.\n",
        "set1.remove(5)\n",
        "print(\"Set1 actualizado:\", set1)\n"
      ],
      "metadata": {
        "id": "tV1cJp3StRXV",
        "outputId": "89a49334-4b57-4df4-c157-d70adf0bf28f",
        "colab": {
          "base_uri": "https://localhost:8080/"
        }
      },
      "execution_count": 23,
      "outputs": [
        {
          "output_type": "stream",
          "name": "stdout",
          "text": [
            "Set1 actualizado: {1, 2, 3, 4, 6, 7, 8, 9, 10}\n"
          ]
        }
      ]
    },
    {
      "cell_type": "code",
      "source": [
        "\n",
        "# Usa un set para almacenar los nombres de tus amigos. Asegúrate de que no haya duplicados.\n",
        "nombres_amigos = [\"Juan\", \"Maria\", \"Pedro\", \"Ana\", \"Luis\", \"Juan\", \"Maria\"]\n",
        "amigos = set(nombres_amigos)\n",
        "\n",
        "print(\"Los nombres de mis amigos son:\",nombres_amigos)\n",
        "print(\"Los nombres de mis amigos sin duplicados son:\", amigos)\n"
      ],
      "metadata": {
        "id": "wC2Pw6Q1tTv0",
        "outputId": "2853a03f-34b9-4ad9-e2f5-7d19c97b37b3",
        "colab": {
          "base_uri": "https://localhost:8080/"
        }
      },
      "execution_count": 25,
      "outputs": [
        {
          "output_type": "stream",
          "name": "stdout",
          "text": [
            "Los nombres de mis amigos son: ['Juan', 'Maria', 'Pedro', 'Ana', 'Luis', 'Juan', 'Maria']\n",
            "Los nombres de mis amigos sin duplicados son: {'Ana', 'Pedro', 'Maria', 'Luis', 'Juan'}\n"
          ]
        }
      ]
    },
    {
      "cell_type": "markdown",
      "source": [
        "## 3. Matrices\n",
        "\n",
        "En Python, las matrices pueden representarse como listas de listas. Para manipular matrices más avanzadas y realizar cálculos eficientes, utilizamos la librería NumPy."
      ],
      "metadata": {
        "id": "Pg3-dd-KvK9D"
      }
    },
    {
      "cell_type": "markdown",
      "source": [
        "### Ejemplo 3.1: Matrices con Listas de Listas\n"
      ],
      "metadata": {
        "id": "X7qGslkLvNya"
      }
    },
    {
      "cell_type": "code",
      "source": [
        "# Crear una matriz 3x3 con listas anidadas\n",
        "matriz = [\n",
        "    [1, 2, 3],\n",
        "    [4, 5, 6],\n",
        "    [7, 8, 9]\n",
        "]\n",
        "print(matriz)\n"
      ],
      "metadata": {
        "id": "TK57Y4GUvQ3Z",
        "outputId": "eceebf64-807c-49ba-ad6a-9631907f9400",
        "colab": {
          "base_uri": "https://localhost:8080/"
        }
      },
      "execution_count": 26,
      "outputs": [
        {
          "output_type": "stream",
          "name": "stdout",
          "text": [
            "[[1, 2, 3], [4, 5, 6], [7, 8, 9]]\n"
          ]
        }
      ]
    },
    {
      "cell_type": "code",
      "source": [
        "# Acceder a elementos de la matriz\n",
        "print(\"Elemento en [1][1]:\", matriz[1][1])\n"
      ],
      "metadata": {
        "id": "D0MpaT6xvSH6",
        "outputId": "f6efaaca-37dd-4381-8ddc-fc9bf930fd9e",
        "colab": {
          "base_uri": "https://localhost:8080/"
        }
      },
      "execution_count": 27,
      "outputs": [
        {
          "output_type": "stream",
          "name": "stdout",
          "text": [
            "Elemento en [1][1]: 5\n"
          ]
        }
      ]
    },
    {
      "cell_type": "code",
      "source": [
        "# Modificar un elemento\n",
        "matriz[2][0] = 10\n",
        "print(matriz)"
      ],
      "metadata": {
        "id": "02wHfdwMvUB_",
        "outputId": "337c8897-dfb1-479b-dfd4-1cca23db3f9a",
        "colab": {
          "base_uri": "https://localhost:8080/"
        }
      },
      "execution_count": 28,
      "outputs": [
        {
          "output_type": "stream",
          "name": "stdout",
          "text": [
            "[[1, 2, 3], [4, 5, 6], [10, 8, 9]]\n"
          ]
        }
      ]
    },
    {
      "cell_type": "markdown",
      "source": [
        "### Ejemplo 3.2: Manipulación de Matrices con NumPy\n"
      ],
      "metadata": {
        "id": "3cCGTHmTvXXy"
      }
    },
    {
      "cell_type": "code",
      "source": [
        "import numpy as np\n",
        "\n",
        "# Crear una matriz 3x3 con NumPy\n",
        "matriz_np = np.array([\n",
        "    [1, 2, 3],\n",
        "    [4, 5, 6],\n",
        "    [7, 8, 9]\n",
        "])\n",
        "print(matriz_np)\n",
        "\n",
        "\n"
      ],
      "metadata": {
        "id": "FZytH_LBvZrP",
        "outputId": "27edf1b5-7428-48cb-b221-43b039536c3b",
        "colab": {
          "base_uri": "https://localhost:8080/"
        }
      },
      "execution_count": 29,
      "outputs": [
        {
          "output_type": "stream",
          "name": "stdout",
          "text": [
            "[[1 2 3]\n",
            " [4 5 6]\n",
            " [7 8 9]]\n"
          ]
        }
      ]
    },
    {
      "cell_type": "code",
      "source": [
        "# Sumar 10 a cada elemento\n",
        "print(matriz_np + 10)\n",
        "\n"
      ],
      "metadata": {
        "id": "n2yT2V3tvbEE",
        "outputId": "fb810951-0c60-44ff-ad8f-8ccbb9987ac1",
        "colab": {
          "base_uri": "https://localhost:8080/"
        }
      },
      "execution_count": 30,
      "outputs": [
        {
          "output_type": "stream",
          "name": "stdout",
          "text": [
            "[[11 12 13]\n",
            " [14 15 16]\n",
            " [17 18 19]]\n"
          ]
        }
      ]
    },
    {
      "cell_type": "code",
      "source": [
        "# Multiplicar cada elemento por 2\n",
        "print(matriz_np * 2)"
      ],
      "metadata": {
        "id": "RS-Cqk3rvb7k",
        "outputId": "81e4b7db-743a-4718-dfe1-258650ac3152",
        "colab": {
          "base_uri": "https://localhost:8080/"
        }
      },
      "execution_count": 31,
      "outputs": [
        {
          "output_type": "stream",
          "name": "stdout",
          "text": [
            "[[ 2  4  6]\n",
            " [ 8 10 12]\n",
            " [14 16 18]]\n"
          ]
        }
      ]
    },
    {
      "cell_type": "markdown",
      "source": [
        "### Ejercicio 3: Operaciones con Matrices\n",
        "\n",
        "- Crea una matriz 3x3 usando listas de listas.\n",
        "- Modifica un valor de la matriz y muestra la matriz actualizada.\n",
        "- Usa NumPy para crear una matriz 4x4 con números aleatorios enteros.\n",
        "- Realiza una operación de suma con la matriz (suma 5 a cada elemento).\n",
        "- Multiplica los elementos de la matriz por 2 usando NumPy."
      ],
      "metadata": {
        "id": "lR6HCR3DveEn"
      }
    },
    {
      "cell_type": "code",
      "source": [
        "\n",
        "# Crea una matriz 3x3 usando listas de listas.\n",
        "matriz = [\n",
        "    [1, 2, 3],\n",
        "    [4, 5, 6],\n",
        "    [7, 8, 9]\n",
        "]\n",
        "print(\"Matriz original:\", matriz)\n"
      ],
      "metadata": {
        "id": "7RMRCaRPvh1s",
        "outputId": "17876d6e-a737-49fd-c525-5ffbf9c35a15",
        "colab": {
          "base_uri": "https://localhost:8080/"
        }
      },
      "execution_count": 33,
      "outputs": [
        {
          "output_type": "stream",
          "name": "stdout",
          "text": [
            "Matriz original: [[1, 2, 3], [4, 5, 6], [7, 8, 9]]\n"
          ]
        }
      ]
    },
    {
      "cell_type": "code",
      "source": [
        "\n",
        "# Modifica un valor de la matriz y muestra la matriz actualizada.\n",
        "matriz[1][1] = 10\n",
        "print(\"\\nMatriz actualizada:\", matriz)\n"
      ],
      "metadata": {
        "id": "sHeRtycTv4Vp",
        "outputId": "5ed3bc87-5597-437a-928b-96cdaf8dc1c2",
        "colab": {
          "base_uri": "https://localhost:8080/"
        }
      },
      "execution_count": 34,
      "outputs": [
        {
          "output_type": "stream",
          "name": "stdout",
          "text": [
            "\n",
            "Matriz actualizada: [[1, 2, 3], [4, 10, 6], [7, 8, 9]]\n"
          ]
        }
      ]
    },
    {
      "cell_type": "code",
      "source": [
        "\n",
        "# Usa NumPy para crear una matriz 4x4 con números aleatorios enteros.\n",
        "matriz_np = np.random.randint(0, 10, size=(4, 4))\n",
        "print(\"Matriz NumPy con números aleatorios:\")\n",
        "print(matriz_np)\n"
      ],
      "metadata": {
        "id": "LvJvofdhv7E4",
        "outputId": "edb300b9-233f-4429-f95e-32ad8eff1183",
        "colab": {
          "base_uri": "https://localhost:8080/"
        }
      },
      "execution_count": 37,
      "outputs": [
        {
          "output_type": "stream",
          "name": "stdout",
          "text": [
            "Matriz NumPy con números aleatorios:\n",
            "[[2 9 4 6]\n",
            " [3 1 0 9]\n",
            " [5 7 2 8]\n",
            " [8 0 9 0]]\n"
          ]
        }
      ]
    },
    {
      "cell_type": "code",
      "source": [
        "\n",
        "# Realiza una operación de suma con la matriz (suma 5 a cada elemento).\n",
        "matriz_np_suma = matriz_np + 5\n",
        "print(\"Matriz suma:\")\n",
        "print(matriz_np_suma)\n"
      ],
      "metadata": {
        "id": "7_kqoFKvv9nN",
        "outputId": "b55ccd95-135e-499c-a547-528c2eeff1b3",
        "colab": {
          "base_uri": "https://localhost:8080/"
        }
      },
      "execution_count": 41,
      "outputs": [
        {
          "output_type": "stream",
          "name": "stdout",
          "text": [
            "Matriz suma:\n",
            "[[ 7 14  9 11]\n",
            " [ 8  6  5 14]\n",
            " [10 12  7 13]\n",
            " [13  5 14  5]]\n"
          ]
        }
      ]
    },
    {
      "cell_type": "code",
      "source": [
        "\n",
        "# Multiplica los elementos de la matriz por 2 usando NumPy.\n",
        "matriz_np_multiplicada = matriz_np * 2\n",
        "print(\"Matriz NumPy con elementos multiplicados por 2:\")\n",
        "print(matriz_np_multiplicada)\n"
      ],
      "metadata": {
        "id": "EqPWrIhYwAcY",
        "outputId": "5fcb5942-8f58-49cf-c429-fc8116522f4a",
        "colab": {
          "base_uri": "https://localhost:8080/"
        }
      },
      "execution_count": 43,
      "outputs": [
        {
          "output_type": "stream",
          "name": "stdout",
          "text": [
            "Matriz NumPy con elementos multiplicados por 2:\n",
            "[[ 4 18  8 12]\n",
            " [ 6  2  0 18]\n",
            " [10 14  4 16]\n",
            " [16  0 18  0]]\n"
          ]
        }
      ]
    },
    {
      "cell_type": "markdown",
      "source": [
        "## 4. Desafío\n",
        "\n",
        "\n",
        "Eres el encargado de un almacén de productos electrónicos. Tienes un registro de ventas semanales para teléfonos, laptops y tabletas. Necesitas analizar las ventas para mejorar la gestión.\n",
        "\n",
        "- Crea tres listas: una para teléfonos, otra para laptops y otra para tabletas con las ventas de cada día durante una semana.\n",
        "- Usa slicing para obtener las ventas de los últimos 3 días de cada producto.\n",
        "- Usa listas por comprensión para calcular el total de ventas de cada producto y el promedio de ventas diarias.\n",
        "- Clasifica los productos en \"ventas altas\" o \"ventas bajas\" según si el promedio de ventas es mayor o menor a 5.\n",
        "\n",
        "Instrucciones:\n",
        "Usa sum() y len() para calcular el total de ventas y el promedio.\n",
        "Clasifica las ventas usando listas por comprensión."
      ],
      "metadata": {
        "id": "ROqSXb4Avk_T"
      }
    },
    {
      "cell_type": "code",
      "source": [
        "\n",
        "# Crea tres listas: una para teléfonos, otra para laptops y otra para tabletas con las ventas de cada día durante una semana.\n",
        "telefonos = [10, 12, 8, 15, 11, 9, 13]\n",
        "laptops = [5, 7, 6, 8, 9, 4, 6]\n",
        "tabletas = [7, 9, 8, 10, 12, 6, 8]\n"
      ],
      "metadata": {
        "id": "93wXCVCZv4TT"
      },
      "execution_count": 51,
      "outputs": []
    },
    {
      "cell_type": "code",
      "source": [
        "\n",
        "# Usa slicing para obtener las ventas de los últimos 3 días de cada producto.\n",
        "ultimos_3_dias_telefonos = telefonos[-3:]\n",
        "ultimos_3_dias_laptops = laptops[-3:]\n",
        "ultimos_3_dias_tabletas = tabletas[-3:]\n",
        "\n",
        "print(\"Ventas de los últimos 3 días de teléfonos:\", ultimos_3_dias_telefonos)\n",
        "print(\"Ventas de los últimos 3 días de laptops:\", ultimos_3_dias_laptops)\n",
        "print(\"Ventas de los últimos 3 días de tabletas:\", ultimos_3_dias_tabletas)\n"
      ],
      "metadata": {
        "id": "OOmWgaECxISe",
        "outputId": "90478886-ae4a-4072-a720-164ac8d5c592",
        "colab": {
          "base_uri": "https://localhost:8080/"
        }
      },
      "execution_count": 47,
      "outputs": [
        {
          "output_type": "stream",
          "name": "stdout",
          "text": [
            "Ventas de los últimos 3 días de teléfonos: [11, 9, 13]\n",
            "Ventas de los últimos 3 días de laptops: [9, 4, 6]\n",
            "Ventas de los últimos 3 días de tabletas: [12, 6, 8]\n"
          ]
        }
      ]
    },
    {
      "cell_type": "code",
      "source": [
        "\n",
        "# Usa listas por comprensión para calcular el total de ventas de cada producto y el promedio de ventas diarias.\n",
        "total_ventas_telefonos = sum(x for x in telefonos)\n",
        "promedio_ventas_telefonos = total_ventas_telefonos / len(telefonos)\n",
        "print(\"Total de ventas de teléfonos:\", total_ventas_telefonos)\n",
        "print(\"Promedio de ventas diarias de teléfonos:\", promedio_ventas_telefonos)\n",
        "\n",
        "total_ventas_laptops = sum(x for x in laptops)\n",
        "promedio_ventas_laptops = total_ventas_laptops / len(laptops)\n",
        "print(\"Total de ventas de laptops:\", total_ventas_laptops)\n",
        "print(\"Promedio de ventas diarias de laptops:\", promedio_ventas_laptops)\n",
        "\n",
        "total_ventas_tabletas = sum(x for x in tabletas)\n",
        "promedio_ventas_tabletas = total_ventas_tabletas / len(tabletas)\n",
        "print(\"Total de ventas de tabletas:\", total_ventas_tabletas)\n",
        "print(\"Promedio de ventas diarias de tabletas:\", promedio_ventas_tabletas)\n"
      ],
      "metadata": {
        "id": "CFfRUoguxKPy",
        "outputId": "25c9644b-d66a-46e6-cc4a-b50de931df7e",
        "colab": {
          "base_uri": "https://localhost:8080/"
        }
      },
      "execution_count": 49,
      "outputs": [
        {
          "output_type": "stream",
          "name": "stdout",
          "text": [
            "Total de ventas de teléfonos: 78\n",
            "Promedio de ventas diarias de teléfonos: 11.142857142857142\n",
            "Total de ventas de laptops: 45\n",
            "Promedio de ventas diarias de laptops: 6.428571428571429\n",
            "Total de ventas de tabletas: 60\n",
            "Promedio de ventas diarias de tabletas: 8.571428571428571\n"
          ]
        }
      ]
    },
    {
      "cell_type": "code",
      "source": [
        "\n",
        "# Clasifica los productos en \"ventas altas\" o \"ventas bajas\" según si el promedio de ventas es mayor o menor a 5.\n",
        "\n",
        "ventas_telefonos = \"Buenas ventas\" if promedio_ventas_telefonos >5 else \"Malas ventas\"\n",
        "ventas_laptops = \"Buenas ventas\" if promedio_ventas_laptops > 5 else \"Malas ventas\"\n",
        "ventas_tabletas = \"Buenas ventas\" if promedio_ventas_tabletas > 5 else \"Malas ventas\"\n",
        "\n",
        "print(\"El nivel de ventas de telefonos:\", ventas_telefonos)\n",
        "print(\"El nivel de ventas de laptops:\", ventas_laptops)\n",
        "print(\"El nivel de ventas de tabletas:\", ventas_tabletas)\n"
      ],
      "metadata": {
        "id": "XZnSAgMyxMpw",
        "outputId": "6ff86c81-c3a3-4525-a31e-47870107cc10",
        "colab": {
          "base_uri": "https://localhost:8080/"
        }
      },
      "execution_count": 50,
      "outputs": [
        {
          "output_type": "stream",
          "name": "stdout",
          "text": [
            "El nivel de ventas de telefonos: Buenas ventas\n",
            "El nivel de ventas de laptops: Buenas ventas\n",
            "El nivel de ventas de tabletas: Buenas ventas\n"
          ]
        }
      ]
    },
    {
      "cell_type": "markdown",
      "source": [
        "---\n",
        "\n",
        "# Gracias por completar este laboratorio!\n",
        "\n",
        "---"
      ],
      "metadata": {
        "id": "qUpDNm7iv-Vh"
      }
    }
  ]
}