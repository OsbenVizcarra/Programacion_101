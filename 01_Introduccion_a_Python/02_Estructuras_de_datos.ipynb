{
  "nbformat": 4,
  "nbformat_minor": 0,
  "metadata": {
    "colab": {
      "provenance": [],
      "include_colab_link": true
    },
    "kernelspec": {
      "name": "python3",
      "display_name": "Python 3"
    },
    "language_info": {
      "name": "python"
    }
  },
  "cells": [
    {
      "cell_type": "markdown",
      "metadata": {
        "id": "view-in-github",
        "colab_type": "text"
      },
      "source": [
        "<a href=\"https://colab.research.google.com/github/OsbenVizcarra/Programacion_101/blob/main/01_Introduccion_a_Python/02_Estructuras_de_datos.ipynb\" target=\"_parent\"><img src=\"https://colab.research.google.com/assets/colab-badge.svg\" alt=\"Open In Colab\"/></a>"
      ]
    },
    {
      "cell_type": "markdown",
      "source": [
        "<img src=\"https://www.ctic.uni.edu.pe/wp-content/uploads/2022/04/588px-x-348px-web-1.png\" alt=\"HTML5 Icon\" width=\"900\" height=\"350\" >\n"
      ],
      "metadata": {
        "id": "a2Ojkh4ciEiA"
      }
    },
    {
      "cell_type": "markdown",
      "source": [
        "<h1 align=center><font size = 5>ESTRUCTURAS DE DATOS - PARTE 1\n",
        "</font></h1>\n",
        "\n",
        "---"
      ],
      "metadata": {
        "id": "-amNk-kqiHO2"
      }
    },
    {
      "cell_type": "markdown",
      "source": [
        "## Tabla de Contenidos\n",
        "\n",
        "<div class=\"alert alert-block alert-info\" style=\"margin-top: 20px\">\n",
        "\n",
        "<font size = 3>\n",
        "    \n",
        "1. <a href=\"#item31\">Listas</a>  \n",
        "2. <a href=\"#item31\">Tuplas</a>  \n",
        "3. <a href=\"#item31\">Slicing</a>  \n",
        "4. <a href=\"#item31\">List comprehension</a>  \n",
        "</font>\n",
        "</div>\n",
        "\n",
        "---\n",
        "\n",
        "\n",
        "\n"
      ],
      "metadata": {
        "id": "qJ6hLRHNiQCG"
      }
    },
    {
      "cell_type": "markdown",
      "source": [
        "## <b>Objetivo:</b>\n",
        "\n",
        "Este laboratorio está diseñado para cubrir los conceptos de listas, tuplas, slicing, y listas por comprensión, con ejercicios detallados para practicar la manipulación de estos tipos de datos en Python.\n",
        "\n",
        "---"
      ],
      "metadata": {
        "id": "1XCUOST_igWZ"
      }
    },
    {
      "cell_type": "markdown",
      "source": [
        "## <b>1. Trabajando con Listas numéricas</b>\n",
        "\n",
        "Las listas son una secuencia de elementos que pueden ser modificados después de su creación. Vamos a realizar varias operaciones con listas numéricas, utilizando también la función range() para generar secuencias de números.\n",
        "\n"
      ],
      "metadata": {
        "id": "MWslSPQKjLYb"
      }
    },
    {
      "cell_type": "markdown",
      "source": [
        "### Ejemplo 1.1: Creación de listas\n"
      ],
      "metadata": {
        "id": "WVuNuyWsjXsU"
      }
    },
    {
      "cell_type": "code",
      "source": [
        "# Crear una lista de frutas\n",
        "frutas = [\"manzana\", \"banana\", \"naranja\", \"uva\", \"pera\"]\n"
      ],
      "metadata": {
        "id": "_nYyKe_bjHY5"
      },
      "execution_count": null,
      "outputs": []
    },
    {
      "cell_type": "code",
      "execution_count": null,
      "metadata": {
        "id": "MNGFUaC6hyfi",
        "outputId": "a18692e2-5082-4241-97a1-c4a327019d86",
        "colab": {
          "base_uri": "https://localhost:8080/"
        }
      },
      "outputs": [
        {
          "output_type": "stream",
          "name": "stdout",
          "text": [
            "manzana kiwi\n"
          ]
        }
      ],
      "source": [
        "# Acceder a elementos individuales\n",
        "primera_fruta = frutas[0]\n",
        "ultima_fruta = frutas[-1]\n",
        "print(primera_fruta, ultima_fruta)"
      ]
    },
    {
      "cell_type": "code",
      "source": [
        "# Modificar un elemento\n",
        "frutas[1] = \"plátano\"\n",
        "print(frutas)"
      ],
      "metadata": {
        "id": "hbnOS3lsjdWc",
        "outputId": "f9f86821-95f6-417d-ffe8-2e18aec8f295",
        "colab": {
          "base_uri": "https://localhost:8080/"
        }
      },
      "execution_count": null,
      "outputs": [
        {
          "output_type": "stream",
          "name": "stdout",
          "text": [
            "['manzana', 'plátano', 'naranja', 'uva', 'pera', 'kiwi']\n"
          ]
        }
      ]
    },
    {
      "cell_type": "markdown",
      "source": [
        "### Ejemplo 1.2: Métodos útiles de listas\n",
        "\n"
      ],
      "metadata": {
        "id": "oa1fRACgjlV_"
      }
    },
    {
      "cell_type": "code",
      "source": [
        "# Agregar un elemento al final\n",
        "frutas.append(\"kiwi\")\n",
        "print(frutas)"
      ],
      "metadata": {
        "id": "yrlpPiGWjol1",
        "outputId": "bf108f58-7c88-4c89-a55b-fa73ab6e234d",
        "colab": {
          "base_uri": "https://localhost:8080/"
        }
      },
      "execution_count": null,
      "outputs": [
        {
          "output_type": "stream",
          "name": "stdout",
          "text": [
            "['manzana', 'plátano', 'naranja', 'uva', 'pera', 'kiwi', 'kiwi']\n"
          ]
        }
      ]
    },
    {
      "cell_type": "code",
      "source": [
        "# Insertar un elemento en una posición específica\n",
        "frutas.insert(2, \"mango\")\n",
        "print(frutas)"
      ],
      "metadata": {
        "id": "wx9q6KbWnZ56",
        "outputId": "e3ba7f4f-6ae9-4dbc-ae55-58b66ba429d0",
        "colab": {
          "base_uri": "https://localhost:8080/"
        }
      },
      "execution_count": null,
      "outputs": [
        {
          "output_type": "stream",
          "name": "stdout",
          "text": [
            "['manzana', 'plátano', 'mango', 'naranja', 'uva', 'pera', 'kiwi', 'kiwi']\n"
          ]
        }
      ]
    },
    {
      "cell_type": "code",
      "source": [
        "# Eliminar un elemento\n",
        "frutas.remove(\"naranja\")\n",
        "print(frutas)"
      ],
      "metadata": {
        "id": "XVXLcedpna3G",
        "outputId": "ca1f56cf-c788-4b09-98c5-14b6c2359dca",
        "colab": {
          "base_uri": "https://localhost:8080/"
        }
      },
      "execution_count": null,
      "outputs": [
        {
          "output_type": "stream",
          "name": "stdout",
          "text": [
            "['manzana', 'plátano', 'mango', 'uva', 'pera', 'kiwi', 'kiwi']\n"
          ]
        }
      ]
    },
    {
      "cell_type": "code",
      "source": [
        "# Ordenar una lista\n",
        "frutas.sort()\n",
        "print(frutas)"
      ],
      "metadata": {
        "id": "v0vdv2Wknb4y",
        "outputId": "315eea02-fa3e-4d59-e507-a3b4a757a963",
        "colab": {
          "base_uri": "https://localhost:8080/"
        }
      },
      "execution_count": null,
      "outputs": [
        {
          "output_type": "stream",
          "name": "stdout",
          "text": [
            "['kiwi', 'kiwi', 'mango', 'manzana', 'pera', 'plátano', 'uva']\n"
          ]
        }
      ]
    },
    {
      "cell_type": "code",
      "source": [
        "# Ordenar en reversa\n",
        "frutas.sort(reverse=True)\n",
        "print(frutas)"
      ],
      "metadata": {
        "id": "Z6ermqmGncXu",
        "outputId": "681db628-efff-4cb6-aa01-cc3b79020ccf",
        "colab": {
          "base_uri": "https://localhost:8080/"
        }
      },
      "execution_count": null,
      "outputs": [
        {
          "output_type": "stream",
          "name": "stdout",
          "text": [
            "['uva', 'plátano', 'pera', 'manzana', 'mango', 'kiwi', 'kiwi']\n"
          ]
        }
      ]
    },
    {
      "cell_type": "markdown",
      "source": [
        "### Ejemplo 1.3: Operaciones numéricas con listas\n",
        "\n"
      ],
      "metadata": {
        "id": "zxB2ys0rm21v"
      }
    },
    {
      "cell_type": "code",
      "source": [
        "digits = [1, 2, 3, 4, 5, 6, 7, 8, 9, 0]\n",
        "\n",
        "print(\"Mínimo:\", min(digits))\n",
        "print(\"Máximo:\", max(digits))\n",
        "print(\"Suma:\", sum(digits))\n",
        "\n",
        "\n",
        "numeros = [1, 2, 3, 4, 5, 6, 7, 8, 9, 10]\n",
        "\n",
        "# Mínimo, máximo y suma\n",
        "print(\"Mínimo:\", min(numeros))\n",
        "print(\"Máximo:\", max(numeros))\n",
        "print(\"Suma total:\", sum(numeros))\n",
        "\n",
        "# Longitud de la lista\n",
        "print(\"Cantidad de elementos:\", len(numeros))\n",
        "\n",
        "# Promedio de los valores en la lista\n",
        "promedio = sum(numeros) / len(numeros)\n",
        "print(\"Promedio:\", promedio)\n"
      ],
      "metadata": {
        "id": "kSOIel4Wm8D2"
      },
      "execution_count": null,
      "outputs": []
    },
    {
      "cell_type": "markdown",
      "source": [
        "## 1.2: Uso de la función range()\n"
      ],
      "metadata": {
        "id": "x_ULJgErpMDb"
      }
    },
    {
      "cell_type": "markdown",
      "source": [
        "La función range() se utiliza para generar secuencias de números, y es especialmente útil cuando se quiere evitar la creación manual de listas largas de números consecutivos."
      ],
      "metadata": {
        "id": "2gHPgAIxpskX"
      }
    },
    {
      "cell_type": "markdown",
      "source": [
        "### Ejemplo 1.4: Creación de listas con range()\n"
      ],
      "metadata": {
        "id": "zgXTDTTIpvwz"
      }
    },
    {
      "cell_type": "code",
      "source": [
        "# Crear una lista con los números del 1 al 10\n",
        "lista_numeros = list(range(1, 11))\n",
        "print(\"Números del 1 al 10:\", lista_numeros)\n"
      ],
      "metadata": {
        "id": "oSjCMXolp0_a"
      },
      "execution_count": null,
      "outputs": []
    },
    {
      "cell_type": "code",
      "source": [
        "# Crear una lista con los números pares entre 2 y 20\n",
        "pares = list(range(2, 21, 2))\n",
        "print(\"Números pares del 2 al 20:\", pares)"
      ],
      "metadata": {
        "id": "irHM5QenptAD",
        "outputId": "c6a54f6f-37b1-4c22-bfd2-8a6f46eebec4",
        "colab": {
          "base_uri": "https://localhost:8080/"
        }
      },
      "execution_count": null,
      "outputs": [
        {
          "output_type": "stream",
          "name": "stdout",
          "text": [
            "Números pares del 2 al 20: [2, 4, 6, 8, 10, 12, 14, 16, 18, 20]\n"
          ]
        }
      ]
    },
    {
      "cell_type": "code",
      "source": [
        "# Crear una lista de números en orden inverso (del 10 al 1)\n",
        "reversa = list(range(10, 0, -1))\n",
        "print(\"Números en orden inverso:\", reversa)"
      ],
      "metadata": {
        "id": "SFRs3Qv1p56E",
        "outputId": "9ecd0d9e-b37f-46be-8138-98988dd77b01",
        "colab": {
          "base_uri": "https://localhost:8080/"
        }
      },
      "execution_count": null,
      "outputs": [
        {
          "output_type": "stream",
          "name": "stdout",
          "text": [
            "Números en orden inverso: [10, 9, 8, 7, 6, 5, 4, 3, 2, 1]\n"
          ]
        }
      ]
    },
    {
      "cell_type": "code",
      "source": [
        "# Crear una lista de múltiplos de 5 entre 0 y 50\n",
        "multiplos_de_5 = list(range(0, 51, 5))\n",
        "print(\"Múltiplos de 5 entre 0 y 50:\", multiplos_de_5)"
      ],
      "metadata": {
        "id": "u9dMaOU8p6UX",
        "outputId": "04aec0e2-6af6-4b1a-93b0-6574a920932a",
        "colab": {
          "base_uri": "https://localhost:8080/"
        }
      },
      "execution_count": null,
      "outputs": [
        {
          "output_type": "stream",
          "name": "stdout",
          "text": [
            "Múltiplos de 5 entre 0 y 50: [0, 5, 10, 15, 20, 25, 30, 35, 40, 45, 50]\n"
          ]
        }
      ]
    },
    {
      "cell_type": "markdown",
      "source": [
        "### Ejercicio 1.1: Operaciones numéricas con listas\n",
        "\n",
        "- Crea una lista de números entre 1 y 100 usando la función range() (verás cómo usarla en el próximo ejemplo).\n",
        "\n",
        "- Calcula la media de los valores de la lista usando las funciones sum() y len().\n",
        "\n",
        "- Usa sorted() para crear una lista ordenada inversamente de los primeros 50 números.\n",
        "\n",
        "- Crea una lista que contenga solo los números mayores a 50, multiplicados por 2."
      ],
      "metadata": {
        "id": "H0ED3Dkxm8cd"
      }
    },
    {
      "cell_type": "code",
      "source": [
        "# Crea una lista de números entre 1 y 100 usando la función range()\n",
        "numeros = list(range(1, 101))\n",
        "print(\"La longitud de la lista es de:\", len(numeros))\n",
        "\n",
        "# Calcula la media de los valores de la lista usando las funciones sum() y len()\n",
        "media = sum(numeros) / len(numeros)\n",
        "print(\"La media de los valores de la lista es:\", media)\n",
        "\n",
        "# Usa sorted() para crear una lista ordenada inversamente de los primeros 50 números\n",
        "primeros_50 = list(range(1, 51))\n",
        "ordenada_inversa = sorted(primeros_50, reverse=True)\n",
        "print(\"La lista ordenada inversamente inicia en:\", ordenada_inversa[0])\n",
        "print(\"La lista ordenada inversamente termina en:\", ordenada_inversa[-1])\n",
        "\n",
        "# Crea una lista que contenga solo los números mayores a 50, multiplicados por 2\n",
        "numeros_mayores_50 = [numeros * 2 for numeros in numeros if numeros > 50]\n",
        "print(\"La longitud de la lista indicada:\",numeros_mayores_50)\n",
        "print(\"La lista indicada comienza con:\", numeros_mayores_50[0])\n",
        "print(\"La lista indicada termina con:\", numeros_mayores_50[-1])"
      ],
      "metadata": {
        "id": "8Yot9kIypKuw",
        "outputId": "fb9507a1-e0fc-46c6-a08d-363604acb927",
        "colab": {
          "base_uri": "https://localhost:8080/"
        }
      },
      "execution_count": null,
      "outputs": [
        {
          "output_type": "stream",
          "name": "stdout",
          "text": [
            "La longitud de la lista es de: 100\n",
            "La media de los valores de la lista es: 50.5\n",
            "La lista ordenada inversamente inicia en: 50\n",
            "La lista ordenada inversamente termina en: 1\n",
            "La longitud de la lista indicada: [102, 104, 106, 108, 110, 112, 114, 116, 118, 120, 122, 124, 126, 128, 130, 132, 134, 136, 138, 140, 142, 144, 146, 148, 150, 152, 154, 156, 158, 160, 162, 164, 166, 168, 170, 172, 174, 176, 178, 180, 182, 184, 186, 188, 190, 192, 194, 196, 198, 200]\n",
            "La lista indicada comienza con: 102\n",
            "La lista indicada termina con: 200\n"
          ]
        }
      ]
    },
    {
      "cell_type": "markdown",
      "source": [
        "## <b>2. Listas por Comprensión</b>\n",
        "\n",
        "Las listas por comprensión son una forma concisa de crear listas nuevas a partir de una expresión. Se pueden utilizar para realizar operaciones sobre secuencias de forma más rápida y sin necesidad de ciclos explícitos.\n",
        "\n"
      ],
      "metadata": {
        "id": "8q_I9AOBjpH7"
      }
    },
    {
      "cell_type": "markdown",
      "source": [
        "### Ejemplo 2.1: Generación de listas por comprensión\n"
      ],
      "metadata": {
        "id": "o3SzxNcajzk4"
      }
    },
    {
      "cell_type": "code",
      "source": [
        "# Crear una lista de cuadrados de los números del 1 al 10\n",
        "cuadrados = [x**2 for x in range(1, 11)]\n",
        "print(cuadrados)"
      ],
      "metadata": {
        "id": "Uu2JI0Ycj7DM",
        "outputId": "a64f8bba-9462-49bf-c205-5e2871974b96",
        "colab": {
          "base_uri": "https://localhost:8080/"
        }
      },
      "execution_count": null,
      "outputs": [
        {
          "output_type": "stream",
          "name": "stdout",
          "text": [
            "[1, 4, 9, 16, 25, 36, 49, 64, 81, 100]\n"
          ]
        }
      ]
    },
    {
      "cell_type": "code",
      "source": [
        "# Crear una lista de números pares entre 1 y 20\n",
        "pares = [x for x in range(1, 21) if x % 2 == 0]\n",
        "print(pares)"
      ],
      "metadata": {
        "id": "j8UcjDF7j9JX",
        "outputId": "dfda5b66-edca-435d-f7e8-a4f7531e82b4",
        "colab": {
          "base_uri": "https://localhost:8080/"
        }
      },
      "execution_count": null,
      "outputs": [
        {
          "output_type": "stream",
          "name": "stdout",
          "text": [
            "[2, 4, 6, 8, 10, 12, 14, 16, 18, 20]\n"
          ]
        }
      ]
    },
    {
      "cell_type": "markdown",
      "source": [
        "### Ejemplo 2.2: Listas por comprensión con manipulación de cadenas\n",
        "\n"
      ],
      "metadata": {
        "id": "v9o0-F4FkBRa"
      }
    },
    {
      "cell_type": "code",
      "source": [
        "# Crear una lista con las primeras letras en mayúsculas de una lista de nombres\n",
        "\n",
        "nombres = [\"juan\", \"pedro\", \"ana\", \"maria\"]\n",
        "nombres_mayuscula = [nombre.capitalize() for nombre in nombres]\n",
        "print(nombres_mayuscula)"
      ],
      "metadata": {
        "id": "V3ZGMDOKkY29",
        "outputId": "969ef28b-da7f-4374-fc81-50eabc45e414",
        "colab": {
          "base_uri": "https://localhost:8080/"
        }
      },
      "execution_count": null,
      "outputs": [
        {
          "output_type": "stream",
          "name": "stdout",
          "text": [
            "['Juan', 'Pedro', 'Ana', 'Maria']\n"
          ]
        }
      ]
    },
    {
      "cell_type": "markdown",
      "source": [
        "### Ejercicio 2: Creación avanzada con listas por comprensión\n",
        "\n",
        "- Crea una lista de los números impares entre 1 y 50.\n",
        "- Genera una lista con los cubos de los primeros 10 números (1 al 10).\n",
        "- Dada una lista de palabras, crea una nueva lista que contenga las palabras con más de 4 letras en mayúsculas.\n"
      ],
      "metadata": {
        "id": "ONAVddiUkk0I"
      }
    },
    {
      "cell_type": "code",
      "source": [
        "# Crea una lista de los números impares entre 1 y 50\n",
        "impares = [x for x in range(1,51) if x % 2 != 0]\n",
        "print(\"La lista en mención es: \",impares)\n",
        "\n",
        "# Genera una lista con los cubos de los primeros 10 números (1 al 10)\n",
        "cubos = [x**3 for x in range (1,11)]\n",
        "print(\"La lista en mención es: \",cubos)\n",
        "\n",
        "# Dada una lista de palabras, crea una nueva lista que contenga las palabras con más de 4 letras en mayúsculas.\n",
        "palabras = [\"tomar\", \"gaseosa\", \"en\", \"exceso\", \"es\", \"malo\", \"para\", \"la\", \"salud\"]\n",
        "palabras4letras = [palabras.upper() for palabras in palabras if len(palabras) > 4]\n",
        "print(\"La lista con palabras de más de 4 letras en mayúsculas es:\",palabras4letras)\n"
      ],
      "metadata": {
        "id": "jfyhX8FmksPF",
        "outputId": "fd51880f-d853-41bb-8626-cd4d4b8c98f8",
        "colab": {
          "base_uri": "https://localhost:8080/"
        }
      },
      "execution_count": null,
      "outputs": [
        {
          "output_type": "stream",
          "name": "stdout",
          "text": [
            "La lista en mención es:  [1, 3, 5, 7, 9, 11, 13, 15, 17, 19, 21, 23, 25, 27, 29, 31, 33, 35, 37, 39, 41, 43, 45, 47, 49]\n",
            "La lista en mención es:  [1, 8, 27, 64, 125, 216, 343, 512, 729, 1000]\n",
            "La lista con palabras de más de 4 letras en mayúsculas es: ['TOMAR', 'GASEOSA', 'EXCESO', 'SALUD']\n"
          ]
        }
      ]
    },
    {
      "cell_type": "markdown",
      "source": [
        "## <b>3. Trabajando con Slicing</b>\n"
      ],
      "metadata": {
        "id": "8Pw1lVQAk_1c"
      }
    },
    {
      "cell_type": "markdown",
      "source": [
        "El slicing es una técnica que te permite extraer sublistas de listas existentes, seleccionando elementos de una lista mediante índices."
      ],
      "metadata": {
        "id": "E4pOl2C8lKzF"
      }
    },
    {
      "cell_type": "markdown",
      "source": [
        "### Ejemplo 3.1: Slicing de listas\n"
      ],
      "metadata": {
        "id": "NhyOyyLtnaLV"
      }
    },
    {
      "cell_type": "code",
      "source": [
        "# Crear una lista de letras\n",
        "letras = ['a', 'b', 'c', 'd', 'e', 'f', 'g', 'h']"
      ],
      "metadata": {
        "id": "YZkf5aLHmhde"
      },
      "execution_count": null,
      "outputs": []
    },
    {
      "cell_type": "code",
      "source": [
        "# Extraer una subsección de la lista\n",
        "primeras_tres = letras[:3]  # Primeros 3 elementos\n",
        "print(primeras_tres)"
      ],
      "metadata": {
        "id": "qi5sJLuUmR0m",
        "outputId": "0e072fc3-19c2-4fc7-99d0-6799eb97c8eb",
        "colab": {
          "base_uri": "https://localhost:8080/"
        }
      },
      "execution_count": null,
      "outputs": [
        {
          "output_type": "stream",
          "name": "stdout",
          "text": [
            "['a', 'b', 'c']\n"
          ]
        }
      ]
    },
    {
      "cell_type": "code",
      "source": [
        "desde_el_cuarto = letras[3:]  # Desde el cuarto hasta el final\n",
        "print(desde_el_cuarto)"
      ],
      "metadata": {
        "id": "8T_pNL9gmoT8",
        "outputId": "3f3d3393-039b-47e4-9ff5-058ee03687bb",
        "colab": {
          "base_uri": "https://localhost:8080/"
        }
      },
      "execution_count": null,
      "outputs": [
        {
          "output_type": "stream",
          "name": "stdout",
          "text": [
            "['d', 'e', 'f', 'g', 'h']\n"
          ]
        }
      ]
    },
    {
      "cell_type": "code",
      "source": [
        "ultimos_dos = letras[-2:]  # Los últimos dos elementos\n",
        "print(ultimos_dos)\n"
      ],
      "metadata": {
        "id": "hSQ9bC3Vmy96",
        "outputId": "b93be3f7-f8cd-46f7-f287-83e644187212",
        "colab": {
          "base_uri": "https://localhost:8080/"
        }
      },
      "execution_count": null,
      "outputs": [
        {
          "output_type": "stream",
          "name": "stdout",
          "text": [
            "['g', 'h']\n"
          ]
        }
      ]
    },
    {
      "cell_type": "markdown",
      "source": [
        "### Ejemplo 3.2: Slicing con pasos\n"
      ],
      "metadata": {
        "id": "QJzj1X6undzm"
      }
    },
    {
      "cell_type": "code",
      "source": [
        "# Crear una lista de números del 1 al 10\n",
        "numeros = list(range(1, 11))\n"
      ],
      "metadata": {
        "id": "9u0Sho8vno-g"
      },
      "execution_count": null,
      "outputs": []
    },
    {
      "cell_type": "code",
      "source": [
        "\n",
        "# Obtener todos los números en posiciones pares\n",
        "pares = numeros[1::2]  # Inicia en el segundo elemento y salta de 2 en 2\n",
        "print(pares)\n"
      ],
      "metadata": {
        "id": "EADKhXulntOP",
        "outputId": "5680af68-29d1-43db-8070-52335e743223",
        "colab": {
          "base_uri": "https://localhost:8080/"
        }
      },
      "execution_count": null,
      "outputs": [
        {
          "output_type": "stream",
          "name": "stdout",
          "text": [
            "[2, 4, 6, 8, 10]\n"
          ]
        }
      ]
    },
    {
      "cell_type": "code",
      "source": [
        "\n",
        "# Obtener cada tercer número\n",
        "tercios = numeros[::3]\n",
        "print(tercios)\n"
      ],
      "metadata": {
        "id": "lRCCtFKBnweq",
        "outputId": "ee90b829-8921-452d-9ccb-92a607919842",
        "colab": {
          "base_uri": "https://localhost:8080/"
        }
      },
      "execution_count": null,
      "outputs": [
        {
          "output_type": "stream",
          "name": "stdout",
          "text": [
            "[1, 4, 7, 10]\n"
          ]
        }
      ]
    },
    {
      "cell_type": "markdown",
      "source": [
        "### Ejercicio 3: Aplicaciones de slicing\n",
        "\n",
        "Crea una lista con los números del 1 al 100. Luego, usando slicing:\n",
        "- Extrae los primeros 10 números.\n",
        "- Extrae los últimos 10 números.\n",
        "- Extrae todos los números en posiciones impares.\n",
        "- Usa slicing para dividir una lista de palabras en dos mitades."
      ],
      "metadata": {
        "id": "vp3MgC__lQyw"
      }
    },
    {
      "cell_type": "code",
      "source": [
        "\n",
        "# Crea una lista con los números del 1 al 100.\n",
        "numeros = list(range (1,101))\n"
      ],
      "metadata": {
        "id": "8wxUXYwOlYNE"
      },
      "execution_count": null,
      "outputs": []
    },
    {
      "cell_type": "code",
      "source": [
        "\n",
        "# Extra los primeros 10 números.\n",
        "primeros_10 = numeros[:10]\n",
        "print(primeros_10)\n"
      ],
      "metadata": {
        "id": "hDPJGo6ScG6-",
        "outputId": "7f60a4d5-dc24-46d0-9d67-0fb3d93c3864",
        "colab": {
          "base_uri": "https://localhost:8080/"
        }
      },
      "execution_count": null,
      "outputs": [
        {
          "output_type": "stream",
          "name": "stdout",
          "text": [
            "[1, 2, 3, 4, 5, 6, 7, 8, 9, 10]\n"
          ]
        }
      ]
    },
    {
      "cell_type": "code",
      "source": [
        "\n",
        "# Extrae los últimos 10 números.\n",
        "ultimos_10 = numeros[-10:]\n",
        "print(ultimos_10)\n"
      ],
      "metadata": {
        "id": "ajevQ1Z3cVoV",
        "outputId": "019139a0-f518-40b9-eef2-a61b030870df",
        "colab": {
          "base_uri": "https://localhost:8080/"
        }
      },
      "execution_count": null,
      "outputs": [
        {
          "output_type": "stream",
          "name": "stdout",
          "text": [
            "[91, 92, 93, 94, 95, 96, 97, 98, 99, 100]\n"
          ]
        }
      ]
    },
    {
      "cell_type": "code",
      "source": [
        "\n",
        "# Usa slicing para dividir una lista de palabras en dos mitades.\n",
        "palabras = [\"aprender\",\"programación\",\"es\",\"muy\",\"divertido\"]\n",
        "mitad = len(palabras)//2\n",
        "print(\"La primera mitad tiene los siguientes elementos:\",palabras[:mitad])\n",
        "print(\"La segunda mitad tiene los siguientes elementos:\",palabras[mitad:])\n"
      ],
      "metadata": {
        "id": "M2ljHtpMcoki",
        "outputId": "eb242897-17a5-4c97-8bcd-142e3d7c7cd2",
        "colab": {
          "base_uri": "https://localhost:8080/"
        }
      },
      "execution_count": 40,
      "outputs": [
        {
          "output_type": "stream",
          "name": "stdout",
          "text": [
            "La primera mitad tiene los siguientes elementos: ['aprender', 'programación']\n",
            "La segunda mitad tiene los siguientes elementos: ['es', 'muy', 'divertido']\n"
          ]
        }
      ]
    },
    {
      "cell_type": "markdown",
      "source": [
        "## <b>4. Trabajando con Tuplas\n",
        "</b>"
      ],
      "metadata": {
        "id": "m2oeaICsrlMr"
      }
    },
    {
      "cell_type": "markdown",
      "source": [
        "Las tuplas son como listas, pero inmutables, lo que significa que no se pueden modificar después de su creación. Son útiles para almacenar datos que no deben cambiar."
      ],
      "metadata": {
        "id": "-m-yjEGmrpxH"
      }
    },
    {
      "cell_type": "markdown",
      "source": [
        "### Ejemplo 4.1: Crear y acceder a tuplas\n"
      ],
      "metadata": {
        "id": "iN8wV0F0rsJK"
      }
    },
    {
      "cell_type": "code",
      "source": [
        "# Crear una tupla\n",
        "coordenadas = (10.5, 20.3)\n",
        "\n",
        "# Acceder a los elementos de la tupla\n",
        "print(\"X:\", coordenadas[0])\n",
        "print(\"Y:\", coordenadas[1])\n"
      ],
      "metadata": {
        "id": "cBiHFdW_rqqi",
        "outputId": "b60d9077-434a-4306-bc90-bee71bbd5fe0",
        "colab": {
          "base_uri": "https://localhost:8080/"
        }
      },
      "execution_count": 41,
      "outputs": [
        {
          "output_type": "stream",
          "name": "stdout",
          "text": [
            "X: 10.5\n",
            "Y: 20.3\n"
          ]
        }
      ]
    },
    {
      "cell_type": "markdown",
      "source": [
        "### Ejemplo 4.2: Intento de modificación de una tupla\n"
      ],
      "metadata": {
        "id": "YIMqOp-erw_K"
      }
    },
    {
      "cell_type": "code",
      "source": [
        "# Crear una tupla\n",
        "dimensiones = (200, 50)\n"
      ],
      "metadata": {
        "id": "4SMEGO6ZrzJj"
      },
      "execution_count": 42,
      "outputs": []
    },
    {
      "cell_type": "code",
      "source": [
        "# Intentar modificar la tupla (esto generará un error)\n",
        "# dimensiones[0] = 250  # Descomenta esta línea para ver el error\n"
      ],
      "metadata": {
        "id": "0Zd9AM9Cr2ZN"
      },
      "execution_count": 43,
      "outputs": []
    },
    {
      "cell_type": "code",
      "source": [
        "# Reasignar una nueva tupla\n",
        "dimensiones = (400, 100)\n",
        "print(\"Nuevas dimensiones:\", dimensiones)"
      ],
      "metadata": {
        "id": "lIv2eQcmr3aL",
        "outputId": "f4d1afa1-adb5-4078-da7d-c3083feebc57",
        "colab": {
          "base_uri": "https://localhost:8080/"
        }
      },
      "execution_count": 44,
      "outputs": [
        {
          "output_type": "stream",
          "name": "stdout",
          "text": [
            "Nuevas dimensiones: (400, 100)\n"
          ]
        }
      ]
    },
    {
      "cell_type": "markdown",
      "source": [
        "### Ejercicio 4: Trabajando con tuplas\n",
        "- Crea una tupla que almacene las dimensiones de un objeto (ancho, alto).\n",
        "- Intenta modificar un elemento de la tupla y observa el error que genera.\n",
        "- Reescribe la tupla completa con nuevas dimensiones.\n"
      ],
      "metadata": {
        "id": "juG-GKwwr7hC"
      }
    },
    {
      "cell_type": "code",
      "source": [
        "# Crea una tupla que almacene las dimensiones de un objeto (ancho, alto).\n",
        "dimensiones = (100, 50)\n",
        "print(\"Dimensiones originales:\", dimensiones)"
      ],
      "metadata": {
        "id": "CW_tZ9JpiKh_"
      },
      "execution_count": null,
      "outputs": []
    },
    {
      "cell_type": "code",
      "source": [
        "# Intenta modificar un elemento de la tupla y observa el error que genera.\n",
        "dimensiones[0] = 150"
      ],
      "metadata": {
        "id": "J8Me4kObiUlH",
        "outputId": "c1bf4db2-5e16-47e9-a8fa-c9fdad654d16",
        "colab": {
          "base_uri": "https://localhost:8080/",
          "height": 156
        }
      },
      "execution_count": 30,
      "outputs": [
        {
          "output_type": "error",
          "ename": "TypeError",
          "evalue": "'tuple' object does not support item assignment",
          "traceback": [
            "\u001b[0;31m---------------------------------------------------------------------------\u001b[0m",
            "\u001b[0;31mTypeError\u001b[0m                                 Traceback (most recent call last)",
            "\u001b[0;32m<ipython-input-30-8197fbbdecc5>\u001b[0m in \u001b[0;36m<cell line: 2>\u001b[0;34m()\u001b[0m\n\u001b[1;32m      1\u001b[0m \u001b[0;31m# Intenta modificar un elemento de la tupla y observa el error que genera.\u001b[0m\u001b[0;34m\u001b[0m\u001b[0;34m\u001b[0m\u001b[0m\n\u001b[0;32m----> 2\u001b[0;31m \u001b[0mdimensiones\u001b[0m\u001b[0;34m[\u001b[0m\u001b[0;36m0\u001b[0m\u001b[0;34m]\u001b[0m \u001b[0;34m=\u001b[0m \u001b[0;36m150\u001b[0m\u001b[0;34m\u001b[0m\u001b[0;34m\u001b[0m\u001b[0m\n\u001b[0m",
            "\u001b[0;31mTypeError\u001b[0m: 'tuple' object does not support item assignment"
          ]
        }
      ]
    },
    {
      "cell_type": "code",
      "source": [
        "# Reescribe la tupla completa con nuevas dimensiones.\n",
        "dimensiones = (200, 100)\n",
        "print(\"Nuevas dimensiones:\", dimensiones)"
      ],
      "metadata": {
        "id": "7ibnsNtWiWWC",
        "outputId": "63b1af0f-9fd9-4590-fdea-473ceb02779a",
        "colab": {
          "base_uri": "https://localhost:8080/"
        }
      },
      "execution_count": 29,
      "outputs": [
        {
          "output_type": "stream",
          "name": "stdout",
          "text": [
            "Nuevas dimensiones: (200, 100)\n"
          ]
        }
      ]
    },
    {
      "cell_type": "markdown",
      "source": [
        "## <b>5. Desafío</b>"
      ],
      "metadata": {
        "id": "K8ioDMpJl8zI"
      }
    },
    {
      "cell_type": "markdown",
      "source": [
        "### Desafío 1: Análisis de ventas de una tienda de ropa\n",
        "\n",
        "Eres el encargado de una tienda de ropa y tienes una lista de ventas diarias para diferentes productos. Cada día, vendes camisetas, pantalones y zapatos. Quieres analizar las ventas para entender mejor el rendimiento de cada producto.\n",
        "\n",
        "<b>Objetivo:</b>\n",
        "\n",
        "- Crea tres listas: una para camisetas, otra para pantalones y una para zapatos, con la cantidad vendida cada día durante una semana.\n",
        "- Usa slicing para extraer las ventas de los últimos 3 días de cada producto.\n",
        "- Usa listas por comprensión para calcular el total de ventas de cada producto y el promedio de ventas diarias.\n",
        "\n",
        "- Clasifica los productos en \"buenas ventas\" o \"malas ventas\" según si el promedio de ventas diarias es mayor o menor a 5.\n",
        "\n",
        "Instrucciones:\n",
        "- Genera los datos de ventas usando listas manualmente o simulándolos con valores constantes.\n",
        "- Calcula el total de ventas por producto usando sum() y el promedio con len().\n",
        "- Usa listas por comprensión para clasificar las ventas de los productos."
      ],
      "metadata": {
        "id": "mQkPuK6ymKTk"
      }
    },
    {
      "cell_type": "code",
      "source": [
        "# Crea tres listas: una para camisetas, otra para pantalones y una para zapatos, con la cantidad vendida cada día durante una semana.\n",
        "camisetas = [10, 12, 8, 15, 9, 11, 7]\n",
        "pantalones = [5, 7, 6, 8, 4, 9, 5]\n",
        "zapatos = [3, 4, 2, 5, 3, 6, 2]"
      ],
      "metadata": {
        "id": "43HiaKjEmmPg"
      },
      "execution_count": 50,
      "outputs": []
    },
    {
      "cell_type": "code",
      "source": [
        "# Extraer las ventas de los últimos 3 días para cada producto\n",
        "ultimas_camisetas = camisetas[-3:]\n",
        "ultimos_pantalones = pantalones[-3:]\n",
        "ultimos_zapatos = zapatos[-3:]\n",
        "\n",
        "print(\"Últimas 3 ventas de camisetas:\", ultimas_camisetas)\n",
        "print(\"Últimas 3 ventas de pantalones:\", ultimos_pantalones)\n",
        "print(\"Últimas 3 ventas de zapatos:\", ultimos_zapatos)"
      ],
      "metadata": {
        "id": "i-eTznh5jPNu",
        "outputId": "044e7c7a-4784-4ca0-fbd2-8515ebc9510b",
        "colab": {
          "base_uri": "https://localhost:8080/"
        }
      },
      "execution_count": 51,
      "outputs": [
        {
          "output_type": "stream",
          "name": "stdout",
          "text": [
            "Últimas 3 ventas de camisetas: [9, 11, 7]\n",
            "Últimas 3 ventas de pantalones: [4, 9, 5]\n",
            "Últimas 3 ventas de zapatos: [3, 6, 2]\n"
          ]
        }
      ]
    },
    {
      "cell_type": "code",
      "source": [
        "# Calcular el total de ventas y el promedio de cada producto\n",
        "total_camisetas = sum(x for x in camisetas)\n",
        "promedio_camisetas = total_camisetas / len(camisetas)\n",
        "\n",
        "total_pantalones = sum(x for x in pantalones)\n",
        "promedio_pantalones = total_pantalones / len(pantalones)\n",
        "\n",
        "total_zapatos = sum(x for x in zapatos)\n",
        "promedio_zapatos = total_zapatos / len(zapatos)\n",
        "\n",
        "\n",
        "print(\"Total de ventas de camisetas:\", total_camisetas)\n",
        "print(\"Promedio de ventas de camisetas:\", promedio_camisetas)\n",
        "\n",
        "print(\"Total de ventas de pantalones:\", total_pantalones)\n",
        "print(\"Promedio de ventas de pantalones:\", promedio_pantalones)\n",
        "\n",
        "print(\"Total de ventas de zapatos:\", total_zapatos)\n",
        "print(\"Promedio de ventas de zapatos:\", promedio_zapatos)"
      ],
      "metadata": {
        "id": "WW-OTv4PjTDa",
        "outputId": "bb214b20-1d2f-4705-9f57-5f8b231d58ef",
        "colab": {
          "base_uri": "https://localhost:8080/"
        }
      },
      "execution_count": 52,
      "outputs": [
        {
          "output_type": "stream",
          "name": "stdout",
          "text": [
            "Total de ventas de camisetas: 72\n",
            "Promedio de ventas de camisetas: 10.285714285714286\n",
            "Total de ventas de pantalones: 44\n",
            "Promedio de ventas de pantalones: 6.285714285714286\n",
            "Total de ventas de zapatos: 25\n",
            "Promedio de ventas de zapatos: 3.5714285714285716\n"
          ]
        }
      ]
    },
    {
      "cell_type": "code",
      "source": [
        "# Clasificar los productos en \"buenas ventas\" o \"malas ventas\"\n",
        "ventas_camisetas = \"Buenas ventas\" if promedio_camisetas >5 else \"Malas ventas\"\n",
        "ventas_pantalones = \"Buenas ventas\" if promedio_pantalones > 5 else \"Malas ventas\"\n",
        "ventas_zapatos = \"Buenas ventas\" if promedio_zapatos > 5 else \"Malas ventas\"\n",
        "\n",
        "print(\"El nivel de ventas de camisetas:\", ventas_camisetas)\n",
        "print(\"El nivel de ventas de pantalones:\", ventas_pantalones)\n",
        "print(\"El nivel de ventas de zapatos:\", ventas_zapatos)"
      ],
      "metadata": {
        "id": "O0_fQR-sjWoh",
        "outputId": "327805db-32aa-40ac-c48b-2c15494a2e1f",
        "colab": {
          "base_uri": "https://localhost:8080/"
        }
      },
      "execution_count": 53,
      "outputs": [
        {
          "output_type": "stream",
          "name": "stdout",
          "text": [
            "El nivel de ventas de camisetas: Buenas ventas\n",
            "El nivel de ventas de pantalones: Buenas ventas\n",
            "El nivel de ventas de zapatos: Malas ventas\n"
          ]
        }
      ]
    },
    {
      "cell_type": "markdown",
      "source": [
        "---\n",
        "\n",
        "# Gracias por completar este laboratorio!\n",
        "\n",
        "---"
      ],
      "metadata": {
        "id": "_G9dWzTgp6-m"
      }
    }
  ]
}